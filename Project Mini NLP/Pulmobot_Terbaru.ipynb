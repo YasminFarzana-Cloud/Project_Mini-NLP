{
  "nbformat": 4,
  "nbformat_minor": 0,
  "metadata": {
    "colab": {
      "provenance": [],
      "collapsed_sections": [
        "Ou5MMmzfRNv9",
        "-jJ3GYYlwM42"
      ]
    },
    "kernelspec": {
      "name": "python3",
      "display_name": "Python 3"
    },
    "language_info": {
      "name": "python"
    },
    "accelerator": "GPU"
  },
  "cells": [
    {
      "cell_type": "markdown",
      "source": [
        "# **Chatbot With Neural Network**\n",
        "\n",
        "<b>Chatbot</b> merupakan bagian dari Natural Language Processing yang digunakan untuk percakapan dengan pengguna melalui teks dan ucapan. Pada praktik hari ini kita akan membuat sebuah chat otomatis atau chatbot tentang program Kampus Merdeka dari Kementerian Pendidikan Kebudayaan Riset dan Teknologi (KEMENDIKBUDRISTEK).\n",
        "\n",
        "Dalam tahapan Chatbot ini ada tahapan yang harus kita perhatikan yaitu,\n",
        "\n",
        "1. Import Library\n",
        "2. Load Dataset\n",
        "3. Preprocessing Data\n",
        "4. Input Length, Output Length and Vocabulary\n",
        "5. Neural Network Model\n",
        "6. Model Analysis\n",
        "7. Testing\n",
        "8. Save Model\n",
        "\n",
        "Dalam proyek ini, kita akan membuat chatbot tentang program Kampus Merdeka!\n",
        "\n",
        "Sumber code: [Medium - Going Merry With Tensorflow 2.0](https://medium.com/analytics-vidhya/chatbot-with-tensorflow-2-0-going-merry-2f79284a6104)"
      ],
      "metadata": {
        "id": "Ou5MMmzfRNv9"
      }
    },
    {
      "cell_type": "markdown",
      "source": [
        "# **Load Google Drive**\n",
        "\n",
        "Setelah kita mengunduh dataset dengan library request url dari link yang kita ketahui maka kita akan menyimpan file data yang kita download di Google Drive dengan dengan cara klik pada menu \"**Mount Drive**\" maka akan keluar code dibawah ini.\n",
        "\n",
        "**Notes:** Mohon dirunning terlebih dahulu"
      ],
      "metadata": {
        "id": "t3Fzfoc1cAo3"
      }
    },
    {
      "cell_type": "code",
      "source": [
        "from google.colab import drive\n",
        "drive.mount('/content/drive')"
      ],
      "metadata": {
        "id": "m4PIzPv_cBmC",
        "colab": {
          "base_uri": "https://localhost:8080/"
        },
        "outputId": "ec026aed-1693-457c-d397-443dbc5174ad"
      },
      "execution_count": null,
      "outputs": [
        {
          "output_type": "stream",
          "name": "stdout",
          "text": [
            "Mounted at /content/drive\n"
          ]
        }
      ]
    },
    {
      "cell_type": "code",
      "source": [
        "!pip -q install SpeechRecognition"
      ],
      "metadata": {
        "id": "E7fv7xUWCs4Q",
        "colab": {
          "base_uri": "https://localhost:8080/"
        },
        "outputId": "14e0b6c4-15bb-458e-a46d-9269c5058c22"
      },
      "execution_count": null,
      "outputs": [
        {
          "output_type": "stream",
          "name": "stdout",
          "text": [
            "\u001b[K     |████████████████████████████████| 32.8 MB 1.2 MB/s \n",
            "\u001b[?25h"
          ]
        }
      ]
    },
    {
      "cell_type": "code",
      "source": [
        "!pip -q install gtts"
      ],
      "metadata": {
        "id": "yMMP5-liFFur"
      },
      "execution_count": null,
      "outputs": []
    },
    {
      "cell_type": "markdown",
      "source": [
        "# **Import Library**\n",
        "\n",
        "Tahapan pertama sebelum melakukan eksplorasi dan praproses pada data adalah memasukan library yang akan digunakan untuk menganalisa dataset dengan menggunakan metode Deep Learning seperti Neural Network dalam pengolahan teks, Chatbot dll. Library yang saya gunakan yaitu NumPy untuk komputasi matematika, Matplotlib untuk visualisasi model data, Natural Language Toolkit atau NLTK untuk pengolahan teks, Pandas untuk membaca data, serta Tensorflow untuk model pada data menggunakan algoritma LSTM dan Jaringan Syaraf Tiruan (Neural Network)."
      ],
      "metadata": {
        "id": "TGl6pk_DFMtO"
      }
    },
    {
      "cell_type": "code",
      "source": [
        "# Import Libraries\n",
        "import json\n",
        "import nltk\n",
        "import time\n",
        "import random\n",
        "import string\n",
        "import pickle\n",
        "import numpy as np\n",
        "import pandas as pd\n",
        "from gtts import gTTS\n",
        "from io import BytesIO\n",
        "import tensorflow as tf\n",
        "import IPython.display as ipd\n",
        "import speech_recognition as sr \n",
        "import matplotlib.pyplot as plt\n",
        "from nltk.stem import WordNetLemmatizer\n",
        "from tensorflow.keras.models import Model\n",
        "from keras.utils.vis_utils import plot_model\n",
        "from sklearn.preprocessing import LabelEncoder\n",
        "from tensorflow.keras.preprocessing.text import Tokenizer\n",
        "from tensorflow.keras.layers import Input, Embedding, LSTM\n",
        "from tensorflow.keras.preprocessing.sequence import pad_sequences\n",
        "from tensorflow.keras.layers import Flatten, Dense, GlobalMaxPool1D"
      ],
      "metadata": {
        "id": "vfRv5iZgFOlC"
      },
      "execution_count": null,
      "outputs": []
    },
    {
      "cell_type": "markdown",
      "source": [
        "## **Download NLTK Package**"
      ],
      "metadata": {
        "id": "9pBLURi7qPWk"
      }
    },
    {
      "cell_type": "code",
      "source": [
        "# Package sentence tokenizer\n",
        "nltk.download('punkt')\n",
        "# Package lemmatization\n",
        "nltk.download('wordnet')\n",
        "# Package multilingual wordnet data\n",
        "nltk.download('omw-1.4')"
      ],
      "metadata": {
        "id": "bK3y4nczFoJu",
        "colab": {
          "base_uri": "https://localhost:8080/"
        },
        "outputId": "d9da7663-f06d-4905-abc4-5c11465f8596"
      },
      "execution_count": null,
      "outputs": [
        {
          "output_type": "stream",
          "name": "stderr",
          "text": [
            "[nltk_data] Downloading package punkt to /root/nltk_data...\n",
            "[nltk_data]   Unzipping tokenizers/punkt.zip.\n",
            "[nltk_data] Downloading package wordnet to /root/nltk_data...\n",
            "[nltk_data] Downloading package omw-1.4 to /root/nltk_data...\n"
          ]
        },
        {
          "output_type": "execute_result",
          "data": {
            "text/plain": [
              "True"
            ]
          },
          "metadata": {},
          "execution_count": 5
        }
      ]
    },
    {
      "cell_type": "markdown",
      "source": [
        "# **Load Dataset Json**"
      ],
      "metadata": {
        "id": "vRiMGtb3qxyJ"
      }
    },
    {
      "cell_type": "code",
      "source": [
        "# Importing the dataset\n",
        "with open('/content/drive/MyDrive/NLP/pulmobot/PulmoBot.json') as content:\n",
        "  datapnm = json.load(content)\n",
        "\n",
        "# Mendapatkan semua data ke dalam list\n",
        "tags = [] # data tag\n",
        "inputs = [] # data input atau pattern\n",
        "responses = {} # data respon\n",
        "words = [] # Data kata \n",
        "classes = [] # Data Kelas atau Tag\n",
        "documents = [] # Data Kalimat Dokumen\n",
        "ignore_words = ['?', '!'] # Mengabaikan tanda spesial karakter\n",
        "\n",
        "for intent in datapnm['intents']:\n",
        "  responses[intent['tag']]=intent['responses']\n",
        "  for lines in intent['patterns']:\n",
        "    inputs.append(lines)\n",
        "    tags.append(intent['tag'])\n",
        "    for pattern in intent['patterns']:\n",
        "      w = nltk.word_tokenize(pattern)\n",
        "      words.extend(w)\n",
        "      documents.append((w, intent['tag']))\n",
        "      # add to our classes list\n",
        "      if intent['tag'] not in classes:\n",
        "        classes.append(intent['tag'])\n",
        "\n",
        "# Konversi data json ke dalam dataframe\n",
        "data = pd.DataFrame({\"patterns\":inputs, \"tags\":tags})"
      ],
      "metadata": {
        "id": "GKFVHri7IvU0"
      },
      "execution_count": null,
      "outputs": []
    },
    {
      "cell_type": "code",
      "source": [
        "# Cetak data keseluruhan\n",
        "data"
      ],
      "metadata": {
        "id": "UaZNk86JVmOT",
        "colab": {
          "base_uri": "https://localhost:8080/",
          "height": 424
        },
        "outputId": "471e949c-9860-4c76-d040-d7c170182110"
      },
      "execution_count": null,
      "outputs": [
        {
          "output_type": "execute_result",
          "data": {
            "text/plain": [
              "                         patterns                  tags\n",
              "0                           hallo              greeting\n",
              "1                             hai              greeting\n",
              "2                            halo              greeting\n",
              "3                             hei              greeting\n",
              "4                              hi              greeting\n",
              "..                            ...                   ...\n",
              "108   Komplikasi paru paru basah?  Komplikasi_Pneumonia\n",
              "109  Komplikasi radang paru-paru?  Komplikasi_Pneumonia\n",
              "110  Komplikasi radang paru paru?  Komplikasi_Pneumonia\n",
              "111      Komplikasinya bagaimana?  Komplikasi_Pneumonia\n",
              "112                   Komplikasi?  Komplikasi_Pneumonia\n",
              "\n",
              "[113 rows x 2 columns]"
            ],
            "text/html": [
              "\n",
              "  <div id=\"df-3669e2e9-c2f5-4ea6-943c-03f444e5b83c\">\n",
              "    <div class=\"colab-df-container\">\n",
              "      <div>\n",
              "<style scoped>\n",
              "    .dataframe tbody tr th:only-of-type {\n",
              "        vertical-align: middle;\n",
              "    }\n",
              "\n",
              "    .dataframe tbody tr th {\n",
              "        vertical-align: top;\n",
              "    }\n",
              "\n",
              "    .dataframe thead th {\n",
              "        text-align: right;\n",
              "    }\n",
              "</style>\n",
              "<table border=\"1\" class=\"dataframe\">\n",
              "  <thead>\n",
              "    <tr style=\"text-align: right;\">\n",
              "      <th></th>\n",
              "      <th>patterns</th>\n",
              "      <th>tags</th>\n",
              "    </tr>\n",
              "  </thead>\n",
              "  <tbody>\n",
              "    <tr>\n",
              "      <th>0</th>\n",
              "      <td>hallo</td>\n",
              "      <td>greeting</td>\n",
              "    </tr>\n",
              "    <tr>\n",
              "      <th>1</th>\n",
              "      <td>hai</td>\n",
              "      <td>greeting</td>\n",
              "    </tr>\n",
              "    <tr>\n",
              "      <th>2</th>\n",
              "      <td>halo</td>\n",
              "      <td>greeting</td>\n",
              "    </tr>\n",
              "    <tr>\n",
              "      <th>3</th>\n",
              "      <td>hei</td>\n",
              "      <td>greeting</td>\n",
              "    </tr>\n",
              "    <tr>\n",
              "      <th>4</th>\n",
              "      <td>hi</td>\n",
              "      <td>greeting</td>\n",
              "    </tr>\n",
              "    <tr>\n",
              "      <th>...</th>\n",
              "      <td>...</td>\n",
              "      <td>...</td>\n",
              "    </tr>\n",
              "    <tr>\n",
              "      <th>108</th>\n",
              "      <td>Komplikasi paru paru basah?</td>\n",
              "      <td>Komplikasi_Pneumonia</td>\n",
              "    </tr>\n",
              "    <tr>\n",
              "      <th>109</th>\n",
              "      <td>Komplikasi radang paru-paru?</td>\n",
              "      <td>Komplikasi_Pneumonia</td>\n",
              "    </tr>\n",
              "    <tr>\n",
              "      <th>110</th>\n",
              "      <td>Komplikasi radang paru paru?</td>\n",
              "      <td>Komplikasi_Pneumonia</td>\n",
              "    </tr>\n",
              "    <tr>\n",
              "      <th>111</th>\n",
              "      <td>Komplikasinya bagaimana?</td>\n",
              "      <td>Komplikasi_Pneumonia</td>\n",
              "    </tr>\n",
              "    <tr>\n",
              "      <th>112</th>\n",
              "      <td>Komplikasi?</td>\n",
              "      <td>Komplikasi_Pneumonia</td>\n",
              "    </tr>\n",
              "  </tbody>\n",
              "</table>\n",
              "<p>113 rows × 2 columns</p>\n",
              "</div>\n",
              "      <button class=\"colab-df-convert\" onclick=\"convertToInteractive('df-3669e2e9-c2f5-4ea6-943c-03f444e5b83c')\"\n",
              "              title=\"Convert this dataframe to an interactive table.\"\n",
              "              style=\"display:none;\">\n",
              "        \n",
              "  <svg xmlns=\"http://www.w3.org/2000/svg\" height=\"24px\"viewBox=\"0 0 24 24\"\n",
              "       width=\"24px\">\n",
              "    <path d=\"M0 0h24v24H0V0z\" fill=\"none\"/>\n",
              "    <path d=\"M18.56 5.44l.94 2.06.94-2.06 2.06-.94-2.06-.94-.94-2.06-.94 2.06-2.06.94zm-11 1L8.5 8.5l.94-2.06 2.06-.94-2.06-.94L8.5 2.5l-.94 2.06-2.06.94zm10 10l.94 2.06.94-2.06 2.06-.94-2.06-.94-.94-2.06-.94 2.06-2.06.94z\"/><path d=\"M17.41 7.96l-1.37-1.37c-.4-.4-.92-.59-1.43-.59-.52 0-1.04.2-1.43.59L10.3 9.45l-7.72 7.72c-.78.78-.78 2.05 0 2.83L4 21.41c.39.39.9.59 1.41.59.51 0 1.02-.2 1.41-.59l7.78-7.78 2.81-2.81c.8-.78.8-2.07 0-2.86zM5.41 20L4 18.59l7.72-7.72 1.47 1.35L5.41 20z\"/>\n",
              "  </svg>\n",
              "      </button>\n",
              "      \n",
              "  <style>\n",
              "    .colab-df-container {\n",
              "      display:flex;\n",
              "      flex-wrap:wrap;\n",
              "      gap: 12px;\n",
              "    }\n",
              "\n",
              "    .colab-df-convert {\n",
              "      background-color: #E8F0FE;\n",
              "      border: none;\n",
              "      border-radius: 50%;\n",
              "      cursor: pointer;\n",
              "      display: none;\n",
              "      fill: #1967D2;\n",
              "      height: 32px;\n",
              "      padding: 0 0 0 0;\n",
              "      width: 32px;\n",
              "    }\n",
              "\n",
              "    .colab-df-convert:hover {\n",
              "      background-color: #E2EBFA;\n",
              "      box-shadow: 0px 1px 2px rgba(60, 64, 67, 0.3), 0px 1px 3px 1px rgba(60, 64, 67, 0.15);\n",
              "      fill: #174EA6;\n",
              "    }\n",
              "\n",
              "    [theme=dark] .colab-df-convert {\n",
              "      background-color: #3B4455;\n",
              "      fill: #D2E3FC;\n",
              "    }\n",
              "\n",
              "    [theme=dark] .colab-df-convert:hover {\n",
              "      background-color: #434B5C;\n",
              "      box-shadow: 0px 1px 3px 1px rgba(0, 0, 0, 0.15);\n",
              "      filter: drop-shadow(0px 1px 2px rgba(0, 0, 0, 0.3));\n",
              "      fill: #FFFFFF;\n",
              "    }\n",
              "  </style>\n",
              "\n",
              "      <script>\n",
              "        const buttonEl =\n",
              "          document.querySelector('#df-3669e2e9-c2f5-4ea6-943c-03f444e5b83c button.colab-df-convert');\n",
              "        buttonEl.style.display =\n",
              "          google.colab.kernel.accessAllowed ? 'block' : 'none';\n",
              "\n",
              "        async function convertToInteractive(key) {\n",
              "          const element = document.querySelector('#df-3669e2e9-c2f5-4ea6-943c-03f444e5b83c');\n",
              "          const dataTable =\n",
              "            await google.colab.kernel.invokeFunction('convertToInteractive',\n",
              "                                                     [key], {});\n",
              "          if (!dataTable) return;\n",
              "\n",
              "          const docLinkHtml = 'Like what you see? Visit the ' +\n",
              "            '<a target=\"_blank\" href=https://colab.research.google.com/notebooks/data_table.ipynb>data table notebook</a>'\n",
              "            + ' to learn more about interactive tables.';\n",
              "          element.innerHTML = '';\n",
              "          dataTable['output_type'] = 'display_data';\n",
              "          await google.colab.output.renderOutput(dataTable, element);\n",
              "          const docLink = document.createElement('div');\n",
              "          docLink.innerHTML = docLinkHtml;\n",
              "          element.appendChild(docLink);\n",
              "        }\n",
              "      </script>\n",
              "    </div>\n",
              "  </div>\n",
              "  "
            ]
          },
          "metadata": {},
          "execution_count": 7
        }
      ]
    },
    {
      "cell_type": "code",
      "source": [
        "# # Cetak data baris pertama sampai baris kelima\n",
        "data.head()"
      ],
      "metadata": {
        "id": "yE34L2RgYulH",
        "colab": {
          "base_uri": "https://localhost:8080/",
          "height": 206
        },
        "outputId": "3cf92154-0872-4c7e-86e0-21528305f623"
      },
      "execution_count": null,
      "outputs": [
        {
          "output_type": "execute_result",
          "data": {
            "text/plain": [
              "  patterns      tags\n",
              "0    hallo  greeting\n",
              "1      hai  greeting\n",
              "2     halo  greeting\n",
              "3      hei  greeting\n",
              "4       hi  greeting"
            ],
            "text/html": [
              "\n",
              "  <div id=\"df-88f4c51b-4718-4996-bc01-adaffe7aa98a\">\n",
              "    <div class=\"colab-df-container\">\n",
              "      <div>\n",
              "<style scoped>\n",
              "    .dataframe tbody tr th:only-of-type {\n",
              "        vertical-align: middle;\n",
              "    }\n",
              "\n",
              "    .dataframe tbody tr th {\n",
              "        vertical-align: top;\n",
              "    }\n",
              "\n",
              "    .dataframe thead th {\n",
              "        text-align: right;\n",
              "    }\n",
              "</style>\n",
              "<table border=\"1\" class=\"dataframe\">\n",
              "  <thead>\n",
              "    <tr style=\"text-align: right;\">\n",
              "      <th></th>\n",
              "      <th>patterns</th>\n",
              "      <th>tags</th>\n",
              "    </tr>\n",
              "  </thead>\n",
              "  <tbody>\n",
              "    <tr>\n",
              "      <th>0</th>\n",
              "      <td>hallo</td>\n",
              "      <td>greeting</td>\n",
              "    </tr>\n",
              "    <tr>\n",
              "      <th>1</th>\n",
              "      <td>hai</td>\n",
              "      <td>greeting</td>\n",
              "    </tr>\n",
              "    <tr>\n",
              "      <th>2</th>\n",
              "      <td>halo</td>\n",
              "      <td>greeting</td>\n",
              "    </tr>\n",
              "    <tr>\n",
              "      <th>3</th>\n",
              "      <td>hei</td>\n",
              "      <td>greeting</td>\n",
              "    </tr>\n",
              "    <tr>\n",
              "      <th>4</th>\n",
              "      <td>hi</td>\n",
              "      <td>greeting</td>\n",
              "    </tr>\n",
              "  </tbody>\n",
              "</table>\n",
              "</div>\n",
              "      <button class=\"colab-df-convert\" onclick=\"convertToInteractive('df-88f4c51b-4718-4996-bc01-adaffe7aa98a')\"\n",
              "              title=\"Convert this dataframe to an interactive table.\"\n",
              "              style=\"display:none;\">\n",
              "        \n",
              "  <svg xmlns=\"http://www.w3.org/2000/svg\" height=\"24px\"viewBox=\"0 0 24 24\"\n",
              "       width=\"24px\">\n",
              "    <path d=\"M0 0h24v24H0V0z\" fill=\"none\"/>\n",
              "    <path d=\"M18.56 5.44l.94 2.06.94-2.06 2.06-.94-2.06-.94-.94-2.06-.94 2.06-2.06.94zm-11 1L8.5 8.5l.94-2.06 2.06-.94-2.06-.94L8.5 2.5l-.94 2.06-2.06.94zm10 10l.94 2.06.94-2.06 2.06-.94-2.06-.94-.94-2.06-.94 2.06-2.06.94z\"/><path d=\"M17.41 7.96l-1.37-1.37c-.4-.4-.92-.59-1.43-.59-.52 0-1.04.2-1.43.59L10.3 9.45l-7.72 7.72c-.78.78-.78 2.05 0 2.83L4 21.41c.39.39.9.59 1.41.59.51 0 1.02-.2 1.41-.59l7.78-7.78 2.81-2.81c.8-.78.8-2.07 0-2.86zM5.41 20L4 18.59l7.72-7.72 1.47 1.35L5.41 20z\"/>\n",
              "  </svg>\n",
              "      </button>\n",
              "      \n",
              "  <style>\n",
              "    .colab-df-container {\n",
              "      display:flex;\n",
              "      flex-wrap:wrap;\n",
              "      gap: 12px;\n",
              "    }\n",
              "\n",
              "    .colab-df-convert {\n",
              "      background-color: #E8F0FE;\n",
              "      border: none;\n",
              "      border-radius: 50%;\n",
              "      cursor: pointer;\n",
              "      display: none;\n",
              "      fill: #1967D2;\n",
              "      height: 32px;\n",
              "      padding: 0 0 0 0;\n",
              "      width: 32px;\n",
              "    }\n",
              "\n",
              "    .colab-df-convert:hover {\n",
              "      background-color: #E2EBFA;\n",
              "      box-shadow: 0px 1px 2px rgba(60, 64, 67, 0.3), 0px 1px 3px 1px rgba(60, 64, 67, 0.15);\n",
              "      fill: #174EA6;\n",
              "    }\n",
              "\n",
              "    [theme=dark] .colab-df-convert {\n",
              "      background-color: #3B4455;\n",
              "      fill: #D2E3FC;\n",
              "    }\n",
              "\n",
              "    [theme=dark] .colab-df-convert:hover {\n",
              "      background-color: #434B5C;\n",
              "      box-shadow: 0px 1px 3px 1px rgba(0, 0, 0, 0.15);\n",
              "      filter: drop-shadow(0px 1px 2px rgba(0, 0, 0, 0.3));\n",
              "      fill: #FFFFFF;\n",
              "    }\n",
              "  </style>\n",
              "\n",
              "      <script>\n",
              "        const buttonEl =\n",
              "          document.querySelector('#df-88f4c51b-4718-4996-bc01-adaffe7aa98a button.colab-df-convert');\n",
              "        buttonEl.style.display =\n",
              "          google.colab.kernel.accessAllowed ? 'block' : 'none';\n",
              "\n",
              "        async function convertToInteractive(key) {\n",
              "          const element = document.querySelector('#df-88f4c51b-4718-4996-bc01-adaffe7aa98a');\n",
              "          const dataTable =\n",
              "            await google.colab.kernel.invokeFunction('convertToInteractive',\n",
              "                                                     [key], {});\n",
              "          if (!dataTable) return;\n",
              "\n",
              "          const docLinkHtml = 'Like what you see? Visit the ' +\n",
              "            '<a target=\"_blank\" href=https://colab.research.google.com/notebooks/data_table.ipynb>data table notebook</a>'\n",
              "            + ' to learn more about interactive tables.';\n",
              "          element.innerHTML = '';\n",
              "          dataTable['output_type'] = 'display_data';\n",
              "          await google.colab.output.renderOutput(dataTable, element);\n",
              "          const docLink = document.createElement('div');\n",
              "          docLink.innerHTML = docLinkHtml;\n",
              "          element.appendChild(docLink);\n",
              "        }\n",
              "      </script>\n",
              "    </div>\n",
              "  </div>\n",
              "  "
            ]
          },
          "metadata": {},
          "execution_count": 8
        }
      ]
    },
    {
      "cell_type": "code",
      "source": [
        "# Cetak data baris ke-70 sampai baris akhir\n",
        "data.tail()"
      ],
      "metadata": {
        "id": "zt1BhnmfYxPN",
        "colab": {
          "base_uri": "https://localhost:8080/",
          "height": 206
        },
        "outputId": "b1dfeff9-3d2d-48c8-965b-3698b3ada355"
      },
      "execution_count": null,
      "outputs": [
        {
          "output_type": "execute_result",
          "data": {
            "text/plain": [
              "                         patterns                  tags\n",
              "108   Komplikasi paru paru basah?  Komplikasi_Pneumonia\n",
              "109  Komplikasi radang paru-paru?  Komplikasi_Pneumonia\n",
              "110  Komplikasi radang paru paru?  Komplikasi_Pneumonia\n",
              "111      Komplikasinya bagaimana?  Komplikasi_Pneumonia\n",
              "112                   Komplikasi?  Komplikasi_Pneumonia"
            ],
            "text/html": [
              "\n",
              "  <div id=\"df-d56a1117-b814-4f3f-915e-fa8b3f641d0c\">\n",
              "    <div class=\"colab-df-container\">\n",
              "      <div>\n",
              "<style scoped>\n",
              "    .dataframe tbody tr th:only-of-type {\n",
              "        vertical-align: middle;\n",
              "    }\n",
              "\n",
              "    .dataframe tbody tr th {\n",
              "        vertical-align: top;\n",
              "    }\n",
              "\n",
              "    .dataframe thead th {\n",
              "        text-align: right;\n",
              "    }\n",
              "</style>\n",
              "<table border=\"1\" class=\"dataframe\">\n",
              "  <thead>\n",
              "    <tr style=\"text-align: right;\">\n",
              "      <th></th>\n",
              "      <th>patterns</th>\n",
              "      <th>tags</th>\n",
              "    </tr>\n",
              "  </thead>\n",
              "  <tbody>\n",
              "    <tr>\n",
              "      <th>108</th>\n",
              "      <td>Komplikasi paru paru basah?</td>\n",
              "      <td>Komplikasi_Pneumonia</td>\n",
              "    </tr>\n",
              "    <tr>\n",
              "      <th>109</th>\n",
              "      <td>Komplikasi radang paru-paru?</td>\n",
              "      <td>Komplikasi_Pneumonia</td>\n",
              "    </tr>\n",
              "    <tr>\n",
              "      <th>110</th>\n",
              "      <td>Komplikasi radang paru paru?</td>\n",
              "      <td>Komplikasi_Pneumonia</td>\n",
              "    </tr>\n",
              "    <tr>\n",
              "      <th>111</th>\n",
              "      <td>Komplikasinya bagaimana?</td>\n",
              "      <td>Komplikasi_Pneumonia</td>\n",
              "    </tr>\n",
              "    <tr>\n",
              "      <th>112</th>\n",
              "      <td>Komplikasi?</td>\n",
              "      <td>Komplikasi_Pneumonia</td>\n",
              "    </tr>\n",
              "  </tbody>\n",
              "</table>\n",
              "</div>\n",
              "      <button class=\"colab-df-convert\" onclick=\"convertToInteractive('df-d56a1117-b814-4f3f-915e-fa8b3f641d0c')\"\n",
              "              title=\"Convert this dataframe to an interactive table.\"\n",
              "              style=\"display:none;\">\n",
              "        \n",
              "  <svg xmlns=\"http://www.w3.org/2000/svg\" height=\"24px\"viewBox=\"0 0 24 24\"\n",
              "       width=\"24px\">\n",
              "    <path d=\"M0 0h24v24H0V0z\" fill=\"none\"/>\n",
              "    <path d=\"M18.56 5.44l.94 2.06.94-2.06 2.06-.94-2.06-.94-.94-2.06-.94 2.06-2.06.94zm-11 1L8.5 8.5l.94-2.06 2.06-.94-2.06-.94L8.5 2.5l-.94 2.06-2.06.94zm10 10l.94 2.06.94-2.06 2.06-.94-2.06-.94-.94-2.06-.94 2.06-2.06.94z\"/><path d=\"M17.41 7.96l-1.37-1.37c-.4-.4-.92-.59-1.43-.59-.52 0-1.04.2-1.43.59L10.3 9.45l-7.72 7.72c-.78.78-.78 2.05 0 2.83L4 21.41c.39.39.9.59 1.41.59.51 0 1.02-.2 1.41-.59l7.78-7.78 2.81-2.81c.8-.78.8-2.07 0-2.86zM5.41 20L4 18.59l7.72-7.72 1.47 1.35L5.41 20z\"/>\n",
              "  </svg>\n",
              "      </button>\n",
              "      \n",
              "  <style>\n",
              "    .colab-df-container {\n",
              "      display:flex;\n",
              "      flex-wrap:wrap;\n",
              "      gap: 12px;\n",
              "    }\n",
              "\n",
              "    .colab-df-convert {\n",
              "      background-color: #E8F0FE;\n",
              "      border: none;\n",
              "      border-radius: 50%;\n",
              "      cursor: pointer;\n",
              "      display: none;\n",
              "      fill: #1967D2;\n",
              "      height: 32px;\n",
              "      padding: 0 0 0 0;\n",
              "      width: 32px;\n",
              "    }\n",
              "\n",
              "    .colab-df-convert:hover {\n",
              "      background-color: #E2EBFA;\n",
              "      box-shadow: 0px 1px 2px rgba(60, 64, 67, 0.3), 0px 1px 3px 1px rgba(60, 64, 67, 0.15);\n",
              "      fill: #174EA6;\n",
              "    }\n",
              "\n",
              "    [theme=dark] .colab-df-convert {\n",
              "      background-color: #3B4455;\n",
              "      fill: #D2E3FC;\n",
              "    }\n",
              "\n",
              "    [theme=dark] .colab-df-convert:hover {\n",
              "      background-color: #434B5C;\n",
              "      box-shadow: 0px 1px 3px 1px rgba(0, 0, 0, 0.15);\n",
              "      filter: drop-shadow(0px 1px 2px rgba(0, 0, 0, 0.3));\n",
              "      fill: #FFFFFF;\n",
              "    }\n",
              "  </style>\n",
              "\n",
              "      <script>\n",
              "        const buttonEl =\n",
              "          document.querySelector('#df-d56a1117-b814-4f3f-915e-fa8b3f641d0c button.colab-df-convert');\n",
              "        buttonEl.style.display =\n",
              "          google.colab.kernel.accessAllowed ? 'block' : 'none';\n",
              "\n",
              "        async function convertToInteractive(key) {\n",
              "          const element = document.querySelector('#df-d56a1117-b814-4f3f-915e-fa8b3f641d0c');\n",
              "          const dataTable =\n",
              "            await google.colab.kernel.invokeFunction('convertToInteractive',\n",
              "                                                     [key], {});\n",
              "          if (!dataTable) return;\n",
              "\n",
              "          const docLinkHtml = 'Like what you see? Visit the ' +\n",
              "            '<a target=\"_blank\" href=https://colab.research.google.com/notebooks/data_table.ipynb>data table notebook</a>'\n",
              "            + ' to learn more about interactive tables.';\n",
              "          element.innerHTML = '';\n",
              "          dataTable['output_type'] = 'display_data';\n",
              "          await google.colab.output.renderOutput(dataTable, element);\n",
              "          const docLink = document.createElement('div');\n",
              "          docLink.innerHTML = docLinkHtml;\n",
              "          element.appendChild(docLink);\n",
              "        }\n",
              "      </script>\n",
              "    </div>\n",
              "  </div>\n",
              "  "
            ]
          },
          "metadata": {},
          "execution_count": 9
        }
      ]
    },
    {
      "cell_type": "markdown",
      "source": [
        "Data yang telah kita miliki dalam format JSON yang dapat digunakan melalui pandas dengan cara konversi. Data JSON yang saya miliki didapat dengan cara manual dengan mengambil beberapa referensi website tentang program Kampus Merdeka."
      ],
      "metadata": {
        "id": "VqV_R7FgVix1"
      }
    },
    {
      "cell_type": "markdown",
      "source": [
        "# **Preprocessing The Data**"
      ],
      "metadata": {
        "id": "Tr3s32iXvUtc"
      }
    },
    {
      "cell_type": "markdown",
      "source": [
        "## *Remove Punctuations*"
      ],
      "metadata": {
        "id": "ALFSPT0mvjgB"
      }
    },
    {
      "cell_type": "code",
      "source": [
        "# Removing Punctuations (Menghilangkan Punktuasi)\n",
        "data['patterns'] = data['patterns'].apply(lambda wrd:[ltrs.lower() for ltrs in wrd if ltrs not in string.punctuation])\n",
        "data['patterns'] = data['patterns'].apply(lambda wrd: ''.join(wrd))"
      ],
      "metadata": {
        "id": "hzHJB1hGvVpp"
      },
      "execution_count": null,
      "outputs": []
    },
    {
      "cell_type": "markdown",
      "source": [
        "##*Lemmatization (Lematisasi)*"
      ],
      "metadata": {
        "id": "inSPeVo4wBow"
      }
    },
    {
      "cell_type": "code",
      "source": [
        "# Lematisasi atau Lemmatization\n",
        "lemmatizer = WordNetLemmatizer()\n",
        "words = [lemmatizer.lemmatize(w.lower()) for w in words if w not in ignore_words]\n",
        "words = sorted(list(set(words)))\n",
        "\n",
        "print (len(words), \"unique lemmatized words\", words)\n"
      ],
      "metadata": {
        "id": "HgQZ3CeYwD6B",
        "colab": {
          "base_uri": "https://localhost:8080/"
        },
        "outputId": "b00b73cb-f04d-43c2-f1b1-f6524b71636a"
      },
      "execution_count": null,
      "outputs": [
        {
          "output_type": "stream",
          "name": "stdout",
          "text": [
            "62 unique lemmatized words ['adalah', 'afternoon', 'apa', 'bagaimana', 'bai', 'banyak', 'basah', 'berat', 'bro', 'bye', 'byee', 'cara', 'dadah', 'dah', 'gejala', 'gejalanya', 'good', 'hai', 'hallo', 'halo', 'hei', 'hi', 'hy', 'info', 'itu', 'jumpa', 'kasih', 'kawan', 'komplikasi', 'komplikasinya', 'lainnya', 'makasih', 'malam', 'menghindarinya', 'morning', 'p', 'pagi', 'paru', 'paru-paru', 'pencegahan', 'pencegahannya', 'pengobatan', 'pengobatannya', 'penyebab', 'penyebabnya', 'pneumonia', 'radang', 'ringan', 'saja', 'sampai', 'see', 'selamat', 'si', 'siang', 'sore', 'tambahan', 'tentang', 'terima', 'thank', 'thanks', 'tinggal', 'you']\n"
          ]
        }
      ]
    },
    {
      "cell_type": "markdown",
      "source": [
        "Menyortir Data Kelas Tags"
      ],
      "metadata": {
        "id": "-jJ3GYYlwM42"
      }
    },
    {
      "cell_type": "code",
      "source": [
        "# sort classes\n",
        "classes = sorted(list(set(classes)))\n",
        "print (len(classes), \"classes\", classes)"
      ],
      "metadata": {
        "id": "7uO2IkEewZGY",
        "colab": {
          "base_uri": "https://localhost:8080/"
        },
        "outputId": "095f9675-0921-4aed-a918-07b8741d9419"
      },
      "execution_count": null,
      "outputs": [
        {
          "output_type": "stream",
          "name": "stdout",
          "text": [
            "12 classes ['Gejala_Pneumonia', 'Info_Tambahan_Pneumonia', 'Komplikasi_Pneumonia', 'Pencegahan_Pneumonia', 'Pengobatan_Gejala_Berat_Pneumonia', 'Pengobatan_Gejala_Ringan_Pneumonia', 'Pengobatan_Pneumonia', 'Penjelasan_Pneumonia', 'Penyebab_Pneumonia', 'goodbye', 'greeting', 'terimakasih']\n"
          ]
        }
      ]
    },
    {
      "cell_type": "markdown",
      "source": [
        "Mencari Jumlah Keseluruhan Data Teks"
      ],
      "metadata": {
        "id": "vHGj6loHweL2"
      }
    },
    {
      "cell_type": "code",
      "source": [
        "# documents = combination between patterns and intents\n",
        "print (len(documents), \"documents\")"
      ],
      "metadata": {
        "id": "MmGY11lowfOu",
        "colab": {
          "base_uri": "https://localhost:8080/"
        },
        "outputId": "bf22895d-3604-42a7-b845-eec83063fdc2"
      },
      "execution_count": null,
      "outputs": [
        {
          "output_type": "stream",
          "name": "stdout",
          "text": [
            "1167 documents\n"
          ]
        }
      ]
    },
    {
      "cell_type": "markdown",
      "source": [
        "## *Tokenization (Tokenisasi)*"
      ],
      "metadata": {
        "id": "KSeRaOM4xc4F"
      }
    },
    {
      "cell_type": "code",
      "source": [
        "# Tokenize the data (Tokenisasi Data)\n",
        "tokenizer = Tokenizer(num_words=2000)\n",
        "tokenizer.fit_on_texts(data['patterns'])\n",
        "train = tokenizer.texts_to_sequences(data['patterns'])\n",
        "train"
      ],
      "metadata": {
        "id": "hng6nN-mxi-i",
        "colab": {
          "base_uri": "https://localhost:8080/"
        },
        "outputId": "7fa05585-5b16-434e-8eca-870232a2c44f"
      },
      "execution_count": null,
      "outputs": [
        {
          "output_type": "execute_result",
          "data": {
            "text/plain": [
              "[[32],\n",
              " [33],\n",
              " [34],\n",
              " [35],\n",
              " [36],\n",
              " [37],\n",
              " [38],\n",
              " [39],\n",
              " [40],\n",
              " [41],\n",
              " [42],\n",
              " [43],\n",
              " [44],\n",
              " [45],\n",
              " [46],\n",
              " [47],\n",
              " [48],\n",
              " [49],\n",
              " [21],\n",
              " [50],\n",
              " [51, 21],\n",
              " [52, 53],\n",
              " [54, 55],\n",
              " [56],\n",
              " [57, 22],\n",
              " [58],\n",
              " [59, 22],\n",
              " [23, 24],\n",
              " [60],\n",
              " [23, 24, 61],\n",
              " [9, 18, 7],\n",
              " [7, 19],\n",
              " [9, 18, 4, 5],\n",
              " [9, 18, 1, 1, 5],\n",
              " [4, 5, 19],\n",
              " [1, 1, 5, 19],\n",
              " [9, 18, 6, 4],\n",
              " [9, 18, 6, 1, 1],\n",
              " [6, 4, 19],\n",
              " [6, 1, 1, 19],\n",
              " [6, 4],\n",
              " [6, 1, 1],\n",
              " [7],\n",
              " [4, 5],\n",
              " [1, 1, 5],\n",
              " [2, 7],\n",
              " [9, 25],\n",
              " [2, 4, 5],\n",
              " [2, 1, 1, 5],\n",
              " [2, 6, 4],\n",
              " [2, 6, 1, 1],\n",
              " [25, 9, 26],\n",
              " [2],\n",
              " [12, 7],\n",
              " [9, 27],\n",
              " [12, 4, 5],\n",
              " [12, 1, 1, 5],\n",
              " [12, 6, 4],\n",
              " [12, 6, 1, 1],\n",
              " [27, 9, 26],\n",
              " [12],\n",
              " [3, 7],\n",
              " [8, 28],\n",
              " [3, 4, 5],\n",
              " [3, 1, 1, 5],\n",
              " [3, 6, 4],\n",
              " [3, 6, 1, 1],\n",
              " [28, 8],\n",
              " [20, 3],\n",
              " [3],\n",
              " [3, 2, 10, 7],\n",
              " [8, 3, 2, 10],\n",
              " [3, 4, 5, 2, 10],\n",
              " [3, 1, 1, 5, 2, 10],\n",
              " [3, 6, 4, 2, 10],\n",
              " [3, 6, 1, 1, 2, 10],\n",
              " [3, 2, 10, 8],\n",
              " [20, 3, 2, 10],\n",
              " [2, 10],\n",
              " [3, 2, 11, 7],\n",
              " [8, 3, 2, 11],\n",
              " [3, 4, 5, 2, 11],\n",
              " [3, 1, 1, 5, 2, 11],\n",
              " [3, 6, 4, 2, 11],\n",
              " [3, 6, 1, 1, 2, 11],\n",
              " [3, 2, 11, 8],\n",
              " [20, 3, 2, 11],\n",
              " [2, 11],\n",
              " [13, 7],\n",
              " [8, 29],\n",
              " [13, 4, 5],\n",
              " [13, 1, 1, 5],\n",
              " [13, 6, 4],\n",
              " [13, 6, 1, 1],\n",
              " [29, 8],\n",
              " [20, 62],\n",
              " [13],\n",
              " [30, 14, 7],\n",
              " [15, 16, 14, 7],\n",
              " [15, 16, 14, 4, 5],\n",
              " [15, 16, 14, 1, 1, 5],\n",
              " [15, 16, 14, 6, 4],\n",
              " [15, 16, 14, 6, 1, 1],\n",
              " [15, 16],\n",
              " [30],\n",
              " [17, 7],\n",
              " [8, 31],\n",
              " [17, 4, 5],\n",
              " [17, 1, 1, 5],\n",
              " [17, 6, 4],\n",
              " [17, 6, 1, 1],\n",
              " [31, 8],\n",
              " [17]]"
            ]
          },
          "metadata": {},
          "execution_count": 14
        }
      ]
    },
    {
      "cell_type": "markdown",
      "source": [
        "## *Padding*"
      ],
      "metadata": {
        "id": "0VtktB83yCIh"
      }
    },
    {
      "cell_type": "code",
      "source": [
        "# Apply padding \n",
        "x_train = pad_sequences(train)\n",
        "print(x_train) # Padding Sequences"
      ],
      "metadata": {
        "id": "77x8y60Fygs0",
        "colab": {
          "base_uri": "https://localhost:8080/"
        },
        "outputId": "4827e3d6-528e-446f-b658-8b0d368afa81"
      },
      "execution_count": null,
      "outputs": [
        {
          "output_type": "stream",
          "name": "stdout",
          "text": [
            "[[ 0  0  0  0  0 32]\n",
            " [ 0  0  0  0  0 33]\n",
            " [ 0  0  0  0  0 34]\n",
            " [ 0  0  0  0  0 35]\n",
            " [ 0  0  0  0  0 36]\n",
            " [ 0  0  0  0  0 37]\n",
            " [ 0  0  0  0  0 38]\n",
            " [ 0  0  0  0  0 39]\n",
            " [ 0  0  0  0  0 40]\n",
            " [ 0  0  0  0  0 41]\n",
            " [ 0  0  0  0  0 42]\n",
            " [ 0  0  0  0  0 43]\n",
            " [ 0  0  0  0  0 44]\n",
            " [ 0  0  0  0  0 45]\n",
            " [ 0  0  0  0  0 46]\n",
            " [ 0  0  0  0  0 47]\n",
            " [ 0  0  0  0  0 48]\n",
            " [ 0  0  0  0  0 49]\n",
            " [ 0  0  0  0  0 21]\n",
            " [ 0  0  0  0  0 50]\n",
            " [ 0  0  0  0 51 21]\n",
            " [ 0  0  0  0 52 53]\n",
            " [ 0  0  0  0 54 55]\n",
            " [ 0  0  0  0  0 56]\n",
            " [ 0  0  0  0 57 22]\n",
            " [ 0  0  0  0  0 58]\n",
            " [ 0  0  0  0 59 22]\n",
            " [ 0  0  0  0 23 24]\n",
            " [ 0  0  0  0  0 60]\n",
            " [ 0  0  0 23 24 61]\n",
            " [ 0  0  0  9 18  7]\n",
            " [ 0  0  0  0  7 19]\n",
            " [ 0  0  9 18  4  5]\n",
            " [ 0  9 18  1  1  5]\n",
            " [ 0  0  0  4  5 19]\n",
            " [ 0  0  1  1  5 19]\n",
            " [ 0  0  9 18  6  4]\n",
            " [ 0  9 18  6  1  1]\n",
            " [ 0  0  0  6  4 19]\n",
            " [ 0  0  6  1  1 19]\n",
            " [ 0  0  0  0  6  4]\n",
            " [ 0  0  0  6  1  1]\n",
            " [ 0  0  0  0  0  7]\n",
            " [ 0  0  0  0  4  5]\n",
            " [ 0  0  0  1  1  5]\n",
            " [ 0  0  0  0  2  7]\n",
            " [ 0  0  0  0  9 25]\n",
            " [ 0  0  0  2  4  5]\n",
            " [ 0  0  2  1  1  5]\n",
            " [ 0  0  0  2  6  4]\n",
            " [ 0  0  2  6  1  1]\n",
            " [ 0  0  0 25  9 26]\n",
            " [ 0  0  0  0  0  2]\n",
            " [ 0  0  0  0 12  7]\n",
            " [ 0  0  0  0  9 27]\n",
            " [ 0  0  0 12  4  5]\n",
            " [ 0  0 12  1  1  5]\n",
            " [ 0  0  0 12  6  4]\n",
            " [ 0  0 12  6  1  1]\n",
            " [ 0  0  0 27  9 26]\n",
            " [ 0  0  0  0  0 12]\n",
            " [ 0  0  0  0  3  7]\n",
            " [ 0  0  0  0  8 28]\n",
            " [ 0  0  0  3  4  5]\n",
            " [ 0  0  3  1  1  5]\n",
            " [ 0  0  0  3  6  4]\n",
            " [ 0  0  3  6  1  1]\n",
            " [ 0  0  0  0 28  8]\n",
            " [ 0  0  0  0 20  3]\n",
            " [ 0  0  0  0  0  3]\n",
            " [ 0  0  3  2 10  7]\n",
            " [ 0  0  8  3  2 10]\n",
            " [ 0  3  4  5  2 10]\n",
            " [ 3  1  1  5  2 10]\n",
            " [ 0  3  6  4  2 10]\n",
            " [ 3  6  1  1  2 10]\n",
            " [ 0  0  3  2 10  8]\n",
            " [ 0  0 20  3  2 10]\n",
            " [ 0  0  0  0  2 10]\n",
            " [ 0  0  3  2 11  7]\n",
            " [ 0  0  8  3  2 11]\n",
            " [ 0  3  4  5  2 11]\n",
            " [ 3  1  1  5  2 11]\n",
            " [ 0  3  6  4  2 11]\n",
            " [ 3  6  1  1  2 11]\n",
            " [ 0  0  3  2 11  8]\n",
            " [ 0  0 20  3  2 11]\n",
            " [ 0  0  0  0  2 11]\n",
            " [ 0  0  0  0 13  7]\n",
            " [ 0  0  0  0  8 29]\n",
            " [ 0  0  0 13  4  5]\n",
            " [ 0  0 13  1  1  5]\n",
            " [ 0  0  0 13  6  4]\n",
            " [ 0  0 13  6  1  1]\n",
            " [ 0  0  0  0 29  8]\n",
            " [ 0  0  0  0 20 62]\n",
            " [ 0  0  0  0  0 13]\n",
            " [ 0  0  0 30 14  7]\n",
            " [ 0  0 15 16 14  7]\n",
            " [ 0 15 16 14  4  5]\n",
            " [15 16 14  1  1  5]\n",
            " [ 0 15 16 14  6  4]\n",
            " [15 16 14  6  1  1]\n",
            " [ 0  0  0  0 15 16]\n",
            " [ 0  0  0  0  0 30]\n",
            " [ 0  0  0  0 17  7]\n",
            " [ 0  0  0  0  8 31]\n",
            " [ 0  0  0 17  4  5]\n",
            " [ 0  0 17  1  1  5]\n",
            " [ 0  0  0 17  6  4]\n",
            " [ 0  0 17  6  1  1]\n",
            " [ 0  0  0  0 31  8]\n",
            " [ 0  0  0  0  0 17]]\n"
          ]
        }
      ]
    },
    {
      "cell_type": "markdown",
      "source": [
        "## *Encoding*"
      ],
      "metadata": {
        "id": "kXx1YeDQyOGP"
      }
    },
    {
      "cell_type": "code",
      "source": [
        "# Encoding the outputs \n",
        "le = LabelEncoder()\n",
        "y_train = le.fit_transform(data['tags'])\n",
        "print(y_train)"
      ],
      "metadata": {
        "id": "9zsGSQrfyl_0",
        "colab": {
          "base_uri": "https://localhost:8080/"
        },
        "outputId": "fbc18562-e06f-429e-c909-aed1a0f39d8f"
      },
      "execution_count": null,
      "outputs": [
        {
          "output_type": "stream",
          "name": "stdout",
          "text": [
            "[10 10 10 10 10 10 10 10 10 10 10 10 10 10 10 10  9  9  9  9  9  9  9  9\n",
            "  9 11 11 11 11 11  7  7  7  7  7  7  7  7  7  7  7  7  7  7  7  0  0  0\n",
            "  0  0  0  0  0  8  8  8  8  8  8  8  8  6  6  6  6  6  6  6  6  6  5  5\n",
            "  5  5  5  5  5  5  5  4  4  4  4  4  4  4  4  4  3  3  3  3  3  3  3  3\n",
            "  3  1  1  1  1  1  1  1  1  2  2  2  2  2  2  2  2]\n"
          ]
        }
      ]
    },
    {
      "cell_type": "markdown",
      "source": [
        "# **Input Length, Output Length and Vocabulary**"
      ],
      "metadata": {
        "id": "ckVXCm5rdyrw"
      }
    },
    {
      "cell_type": "code",
      "source": [
        "# input length\n",
        "input_shape = x_train.shape[1]\n",
        "print(input_shape)"
      ],
      "metadata": {
        "id": "PEp803J_d1Zt",
        "colab": {
          "base_uri": "https://localhost:8080/"
        },
        "outputId": "a61d3de5-c275-41cd-95b6-bb3f12e29f8e"
      },
      "execution_count": null,
      "outputs": [
        {
          "output_type": "stream",
          "name": "stdout",
          "text": [
            "6\n"
          ]
        }
      ]
    },
    {
      "cell_type": "code",
      "source": [
        "# define vocabulary\n",
        "vocabulary = len(tokenizer.word_index)\n",
        "print(\"number of unique words : \", vocabulary)\n",
        "\n",
        "# output length\n",
        "output_length = le.classes_.shape[0]\n",
        "print(\"output length: \", output_length)"
      ],
      "metadata": {
        "id": "GdKw0tCoeACb",
        "colab": {
          "base_uri": "https://localhost:8080/"
        },
        "outputId": "188a8dd9-f62e-452d-ac85-2b2d34c77552"
      },
      "execution_count": null,
      "outputs": [
        {
          "output_type": "stream",
          "name": "stdout",
          "text": [
            "number of unique words :  62\n",
            "output length:  12\n"
          ]
        }
      ]
    },
    {
      "cell_type": "markdown",
      "source": [
        "## **Save Model Words & Classes**"
      ],
      "metadata": {
        "id": "7xa2S9JP1iNO"
      }
    },
    {
      "cell_type": "code",
      "source": [
        "pickle.dump(words, open('/content/drive/MyDrive/NLP/pulmobot/model/words.pkl','wb'))\n",
        "pickle.dump(classes, open('/content/drive/MyDrive/NLP/pulmobot/model/classes.pkl','wb'))"
      ],
      "metadata": {
        "id": "9QMiVYcJecj3"
      },
      "execution_count": null,
      "outputs": []
    },
    {
      "cell_type": "markdown",
      "source": [
        "## **Save Label Encoder & Tokenizer**"
      ],
      "metadata": {
        "id": "4G_SkVQxegIw"
      }
    },
    {
      "cell_type": "code",
      "source": [
        "pickle.dump(le, open('/content/drive/MyDrive/NLP/pulmobot/model/le.pkl','wb'))\n",
        "pickle.dump(tokenizer, open('/content/drive/MyDrive/NLP/pulmobot/model/tokenizers.pkl','wb'))"
      ],
      "metadata": {
        "id": "XQ2aawgJelMl"
      },
      "execution_count": null,
      "outputs": []
    },
    {
      "cell_type": "markdown",
      "source": [
        "# **Neural Network Model**"
      ],
      "metadata": {
        "id": "iHlMPPEo13X9"
      }
    },
    {
      "cell_type": "code",
      "source": [
        "# Creating the model (Membuat Modeling)\n",
        "i = tf.keras.layers.Input(shape=(6,), name='input_ids', dtype='int32')\n",
        "x = Embedding(vocabulary+1,10)(i) # Layer Embedding\n",
        "x = LSTM(10, return_sequences=True)(x) # Layer Long Short Term Memory\n",
        "x = Flatten()(x) # Layer Flatten\n",
        "x = Dense(output_length, activation=\"softmax\")(x) # Layer Dense\n",
        "model  = Model(i,x)\n",
        "\n",
        "# Compiling the model (Kompilasi Model)\n",
        "model.compile(loss=\"sparse_categorical_crossentropy\", optimizer='adam', metrics=['accuracy'])"
      ],
      "metadata": {
        "id": "cqmocfRH2ALa"
      },
      "execution_count": null,
      "outputs": []
    },
    {
      "cell_type": "code",
      "source": [
        "#Visualization Plot Architecture Model (Visualisasi Plot Arsitektur Model)\n",
        "plot_model(model, to_file='model_plot.png', show_shapes=True, show_layer_names=True)"
      ],
      "metadata": {
        "id": "-SEfLJ4q2FIA",
        "colab": {
          "base_uri": "https://localhost:8080/",
          "height": 533
        },
        "outputId": "0e827b50-21c6-478a-a37b-4fe26862bca8"
      },
      "execution_count": null,
      "outputs": [
        {
          "output_type": "execute_result",
          "data": {
            "image/png": "[encoded data removed]",
            "text/plain": [
              "<IPython.core.display.Image object>"
            ]
          },
          "metadata": {},
          "execution_count": 32
        }
      ]
    },
    {
      "cell_type": "code",
      "source": [
        "# Menampilkan Parameter Model\n",
        "model.summary()"
      ],
      "metadata": {
        "id": "vbCzy7EZ2IOZ",
        "colab": {
          "base_uri": "https://localhost:8080/"
        },
        "outputId": "53595a4a-e04d-4dd1-9004-7b97f4da5bcf"
      },
      "execution_count": null,
      "outputs": [
        {
          "output_type": "stream",
          "name": "stdout",
          "text": [
            "Model: \"model_3\"\n",
            "_________________________________________________________________\n",
            " Layer (type)                Output Shape              Param #   \n",
            "=================================================================\n",
            " input_ids (InputLayer)      [(None, 6)]               0         \n",
            "                                                                 \n",
            " embedding_3 (Embedding)     (None, 6, 10)             630       \n",
            "                                                                 \n",
            " lstm_3 (LSTM)               (None, 6, 10)             840       \n",
            "                                                                 \n",
            " flatten_3 (Flatten)         (None, 60)                0         \n",
            "                                                                 \n",
            " dense_3 (Dense)             (None, 12)                732       \n",
            "                                                                 \n",
            "=================================================================\n",
            "Total params: 2,202\n",
            "Trainable params: 2,202\n",
            "Non-trainable params: 0\n",
            "_________________________________________________________________\n"
          ]
        }
      ]
    },
    {
      "cell_type": "code",
      "source": [
        "# Training the model (Latih model data sampai 400 kali)\n",
        "train = model.fit(x_train, y_train, epochs=400)"
      ],
      "metadata": {
        "id": "d_Bx8myG2MR3",
        "colab": {
          "base_uri": "https://localhost:8080/"
        },
        "outputId": "2b7e3b82-980f-41c3-fe6f-71b159ab1a19"
      },
      "execution_count": null,
      "outputs": [
        {
          "output_type": "stream",
          "name": "stdout",
          "text": [
            "Epoch 1/400\n",
            "4/4 [==============================] - 8s 6ms/step - loss: 2.4865 - accuracy: 0.0708\n",
            "Epoch 2/400\n",
            "4/4 [==============================] - 0s 8ms/step - loss: 2.4839 - accuracy: 0.1062\n",
            "Epoch 3/400\n",
            "4/4 [==============================] - 0s 5ms/step - loss: 2.4814 - accuracy: 0.1681\n",
            "Epoch 4/400\n",
            "4/4 [==============================] - 0s 5ms/step - loss: 2.4793 - accuracy: 0.1681\n",
            "Epoch 5/400\n",
            "4/4 [==============================] - 0s 6ms/step - loss: 2.4770 - accuracy: 0.1504\n",
            "Epoch 6/400\n",
            "4/4 [==============================] - 0s 5ms/step - loss: 2.4747 - accuracy: 0.1327\n",
            "Epoch 7/400\n",
            "4/4 [==============================] - 0s 5ms/step - loss: 2.4723 - accuracy: 0.1327\n",
            "Epoch 8/400\n",
            "4/4 [==============================] - 0s 6ms/step - loss: 2.4694 - accuracy: 0.1327\n",
            "Epoch 9/400\n",
            "4/4 [==============================] - 0s 5ms/step - loss: 2.4665 - accuracy: 0.1327\n",
            "Epoch 10/400\n",
            "4/4 [==============================] - 0s 6ms/step - loss: 2.4632 - accuracy: 0.1327\n",
            "Epoch 11/400\n",
            "4/4 [==============================] - 0s 6ms/step - loss: 2.4596 - accuracy: 0.1327\n",
            "Epoch 12/400\n",
            "4/4 [==============================] - 0s 5ms/step - loss: 2.4554 - accuracy: 0.1327\n",
            "Epoch 13/400\n",
            "4/4 [==============================] - 0s 5ms/step - loss: 2.4507 - accuracy: 0.1327\n",
            "Epoch 14/400\n",
            "4/4 [==============================] - 0s 5ms/step - loss: 2.4454 - accuracy: 0.1327\n",
            "Epoch 15/400\n",
            "4/4 [==============================] - 0s 6ms/step - loss: 2.4390 - accuracy: 0.1327\n",
            "Epoch 16/400\n",
            "4/4 [==============================] - 0s 8ms/step - loss: 2.4326 - accuracy: 0.1327\n",
            "Epoch 17/400\n",
            "4/4 [==============================] - 0s 5ms/step - loss: 2.4246 - accuracy: 0.1327\n",
            "Epoch 18/400\n",
            "4/4 [==============================] - 0s 5ms/step - loss: 2.4147 - accuracy: 0.1327\n",
            "Epoch 19/400\n",
            "4/4 [==============================] - 0s 5ms/step - loss: 2.4044 - accuracy: 0.1327\n",
            "Epoch 20/400\n",
            "4/4 [==============================] - 0s 6ms/step - loss: 2.3935 - accuracy: 0.1327\n",
            "Epoch 21/400\n",
            "4/4 [==============================] - 0s 5ms/step - loss: 2.3806 - accuracy: 0.1504\n",
            "Epoch 22/400\n",
            "4/4 [==============================] - 0s 5ms/step - loss: 2.3647 - accuracy: 0.1504\n",
            "Epoch 23/400\n",
            "4/4 [==============================] - 0s 5ms/step - loss: 2.3503 - accuracy: 0.1681\n",
            "Epoch 24/400\n",
            "4/4 [==============================] - 0s 6ms/step - loss: 2.3346 - accuracy: 0.1770\n",
            "Epoch 25/400\n",
            "4/4 [==============================] - 0s 5ms/step - loss: 2.3189 - accuracy: 0.1681\n",
            "Epoch 26/400\n",
            "4/4 [==============================] - 0s 5ms/step - loss: 2.3004 - accuracy: 0.1770\n",
            "Epoch 27/400\n",
            "4/4 [==============================] - 0s 5ms/step - loss: 2.2824 - accuracy: 0.1858\n",
            "Epoch 28/400\n",
            "4/4 [==============================] - 0s 6ms/step - loss: 2.2626 - accuracy: 0.1947\n",
            "Epoch 29/400\n",
            "4/4 [==============================] - 0s 5ms/step - loss: 2.2447 - accuracy: 0.2035\n",
            "Epoch 30/400\n",
            "4/4 [==============================] - 0s 6ms/step - loss: 2.2218 - accuracy: 0.3097\n",
            "Epoch 31/400\n",
            "4/4 [==============================] - 0s 5ms/step - loss: 2.2005 - accuracy: 0.3451\n",
            "Epoch 32/400\n",
            "4/4 [==============================] - 0s 5ms/step - loss: 2.1775 - accuracy: 0.3451\n",
            "Epoch 33/400\n",
            "4/4 [==============================] - 0s 5ms/step - loss: 2.1538 - accuracy: 0.3451\n",
            "Epoch 34/400\n",
            "4/4 [==============================] - 0s 5ms/step - loss: 2.1299 - accuracy: 0.3540\n",
            "Epoch 35/400\n",
            "4/4 [==============================] - 0s 5ms/step - loss: 2.1057 - accuracy: 0.3717\n",
            "Epoch 36/400\n",
            "4/4 [==============================] - 0s 8ms/step - loss: 2.0810 - accuracy: 0.3540\n",
            "Epoch 37/400\n",
            "4/4 [==============================] - 0s 5ms/step - loss: 2.0551 - accuracy: 0.3540\n",
            "Epoch 38/400\n",
            "4/4 [==============================] - 0s 6ms/step - loss: 2.0297 - accuracy: 0.3540\n",
            "Epoch 39/400\n",
            "4/4 [==============================] - 0s 5ms/step - loss: 2.0052 - accuracy: 0.3363\n",
            "Epoch 40/400\n",
            "4/4 [==============================] - 0s 5ms/step - loss: 1.9792 - accuracy: 0.3363\n",
            "Epoch 41/400\n",
            "4/4 [==============================] - 0s 5ms/step - loss: 1.9544 - accuracy: 0.3363\n",
            "Epoch 42/400\n",
            "4/4 [==============================] - 0s 5ms/step - loss: 1.9287 - accuracy: 0.3451\n",
            "Epoch 43/400\n",
            "4/4 [==============================] - 0s 6ms/step - loss: 1.9037 - accuracy: 0.3363\n",
            "Epoch 44/400\n",
            "4/4 [==============================] - 0s 6ms/step - loss: 1.8787 - accuracy: 0.3451\n",
            "Epoch 45/400\n",
            "4/4 [==============================] - 0s 6ms/step - loss: 1.8535 - accuracy: 0.3540\n",
            "Epoch 46/400\n",
            "4/4 [==============================] - 0s 6ms/step - loss: 1.8284 - accuracy: 0.3894\n",
            "Epoch 47/400\n",
            "4/4 [==============================] - 0s 6ms/step - loss: 1.8048 - accuracy: 0.4071\n",
            "Epoch 48/400\n",
            "4/4 [==============================] - 0s 5ms/step - loss: 1.7802 - accuracy: 0.4159\n",
            "Epoch 49/400\n",
            "4/4 [==============================] - 0s 6ms/step - loss: 1.7560 - accuracy: 0.4159\n",
            "Epoch 50/400\n",
            "4/4 [==============================] - 0s 5ms/step - loss: 1.7329 - accuracy: 0.4159\n",
            "Epoch 51/400\n",
            "4/4 [==============================] - 0s 5ms/step - loss: 1.7090 - accuracy: 0.4159\n",
            "Epoch 52/400\n",
            "4/4 [==============================] - 0s 6ms/step - loss: 1.6852 - accuracy: 0.4159\n",
            "Epoch 53/400\n",
            "4/4 [==============================] - 0s 5ms/step - loss: 1.6617 - accuracy: 0.4248\n",
            "Epoch 54/400\n",
            "4/4 [==============================] - 0s 5ms/step - loss: 1.6416 - accuracy: 0.4336\n",
            "Epoch 55/400\n",
            "4/4 [==============================] - 0s 5ms/step - loss: 1.6177 - accuracy: 0.4336\n",
            "Epoch 56/400\n",
            "4/4 [==============================] - 0s 5ms/step - loss: 1.5950 - accuracy: 0.4425\n",
            "Epoch 57/400\n",
            "4/4 [==============================] - 0s 5ms/step - loss: 1.5722 - accuracy: 0.4602\n",
            "Epoch 58/400\n",
            "4/4 [==============================] - 0s 5ms/step - loss: 1.5503 - accuracy: 0.4602\n",
            "Epoch 59/400\n",
            "4/4 [==============================] - 0s 5ms/step - loss: 1.5289 - accuracy: 0.4690\n",
            "Epoch 60/400\n",
            "4/4 [==============================] - 0s 5ms/step - loss: 1.5073 - accuracy: 0.4690\n",
            "Epoch 61/400\n",
            "4/4 [==============================] - 0s 5ms/step - loss: 1.4875 - accuracy: 0.4867\n",
            "Epoch 62/400\n",
            "4/4 [==============================] - 0s 5ms/step - loss: 1.4668 - accuracy: 0.4867\n",
            "Epoch 63/400\n",
            "4/4 [==============================] - 0s 6ms/step - loss: 1.4453 - accuracy: 0.4867\n",
            "Epoch 64/400\n",
            "4/4 [==============================] - 0s 5ms/step - loss: 1.4255 - accuracy: 0.4956\n",
            "Epoch 65/400\n",
            "4/4 [==============================] - 0s 6ms/step - loss: 1.4037 - accuracy: 0.5044\n",
            "Epoch 66/400\n",
            "4/4 [==============================] - 0s 6ms/step - loss: 1.3831 - accuracy: 0.5044\n",
            "Epoch 67/400\n",
            "4/4 [==============================] - 0s 5ms/step - loss: 1.3650 - accuracy: 0.5044\n",
            "Epoch 68/400\n",
            "4/4 [==============================] - 0s 5ms/step - loss: 1.3441 - accuracy: 0.5044\n",
            "Epoch 69/400\n",
            "4/4 [==============================] - 0s 5ms/step - loss: 1.3248 - accuracy: 0.5044\n",
            "Epoch 70/400\n",
            "4/4 [==============================] - 0s 6ms/step - loss: 1.3051 - accuracy: 0.5310\n",
            "Epoch 71/400\n",
            "4/4 [==============================] - 0s 5ms/step - loss: 1.2867 - accuracy: 0.5398\n",
            "Epoch 72/400\n",
            "4/4 [==============================] - 0s 11ms/step - loss: 1.2696 - accuracy: 0.5664\n",
            "Epoch 73/400\n",
            "4/4 [==============================] - 0s 6ms/step - loss: 1.2523 - accuracy: 0.5752\n",
            "Epoch 74/400\n",
            "4/4 [==============================] - 0s 5ms/step - loss: 1.2327 - accuracy: 0.5841\n",
            "Epoch 75/400\n",
            "4/4 [==============================] - 0s 6ms/step - loss: 1.2137 - accuracy: 0.5841\n",
            "Epoch 76/400\n",
            "4/4 [==============================] - 0s 5ms/step - loss: 1.1973 - accuracy: 0.6018\n",
            "Epoch 77/400\n",
            "4/4 [==============================] - 0s 6ms/step - loss: 1.1806 - accuracy: 0.6283\n",
            "Epoch 78/400\n",
            "4/4 [==============================] - 0s 5ms/step - loss: 1.1625 - accuracy: 0.6637\n",
            "Epoch 79/400\n",
            "4/4 [==============================] - 0s 5ms/step - loss: 1.1487 - accuracy: 0.6637\n",
            "Epoch 80/400\n",
            "4/4 [==============================] - 0s 5ms/step - loss: 1.1302 - accuracy: 0.6637\n",
            "Epoch 81/400\n",
            "4/4 [==============================] - 0s 5ms/step - loss: 1.1137 - accuracy: 0.6814\n",
            "Epoch 82/400\n",
            "4/4 [==============================] - 0s 6ms/step - loss: 1.1004 - accuracy: 0.6637\n",
            "Epoch 83/400\n",
            "4/4 [==============================] - 0s 6ms/step - loss: 1.0845 - accuracy: 0.6637\n",
            "Epoch 84/400\n",
            "4/4 [==============================] - 0s 6ms/step - loss: 1.0678 - accuracy: 0.6814\n",
            "Epoch 85/400\n",
            "4/4 [==============================] - 0s 7ms/step - loss: 1.0520 - accuracy: 0.6991\n",
            "Epoch 86/400\n",
            "4/4 [==============================] - 0s 5ms/step - loss: 1.0372 - accuracy: 0.6991\n",
            "Epoch 87/400\n",
            "4/4 [==============================] - 0s 5ms/step - loss: 1.0242 - accuracy: 0.6991\n",
            "Epoch 88/400\n",
            "4/4 [==============================] - 0s 5ms/step - loss: 1.0104 - accuracy: 0.6903\n",
            "Epoch 89/400\n",
            "4/4 [==============================] - 0s 5ms/step - loss: 0.9947 - accuracy: 0.7080\n",
            "Epoch 90/400\n",
            "4/4 [==============================] - 0s 5ms/step - loss: 0.9814 - accuracy: 0.7345\n",
            "Epoch 91/400\n",
            "4/4 [==============================] - 0s 5ms/step - loss: 0.9665 - accuracy: 0.7345\n",
            "Epoch 92/400\n",
            "4/4 [==============================] - 0s 5ms/step - loss: 0.9527 - accuracy: 0.7434\n",
            "Epoch 93/400\n",
            "4/4 [==============================] - 0s 6ms/step - loss: 0.9402 - accuracy: 0.7434\n",
            "Epoch 94/400\n",
            "4/4 [==============================] - 0s 6ms/step - loss: 0.9286 - accuracy: 0.7699\n",
            "Epoch 95/400\n",
            "4/4 [==============================] - 0s 5ms/step - loss: 0.9150 - accuracy: 0.7788\n",
            "Epoch 96/400\n",
            "4/4 [==============================] - 0s 7ms/step - loss: 0.9029 - accuracy: 0.7876\n",
            "Epoch 97/400\n",
            "4/4 [==============================] - 0s 6ms/step - loss: 0.8910 - accuracy: 0.7876\n",
            "Epoch 98/400\n",
            "4/4 [==============================] - 0s 5ms/step - loss: 0.8783 - accuracy: 0.7965\n",
            "Epoch 99/400\n",
            "4/4 [==============================] - 0s 5ms/step - loss: 0.8657 - accuracy: 0.7965\n",
            "Epoch 100/400\n",
            "4/4 [==============================] - 0s 5ms/step - loss: 0.8549 - accuracy: 0.7965\n",
            "Epoch 101/400\n",
            "4/4 [==============================] - 0s 6ms/step - loss: 0.8414 - accuracy: 0.7965\n",
            "Epoch 102/400\n",
            "4/4 [==============================] - 0s 5ms/step - loss: 0.8325 - accuracy: 0.7965\n",
            "Epoch 103/400\n",
            "4/4 [==============================] - 0s 6ms/step - loss: 0.8202 - accuracy: 0.8053\n",
            "Epoch 104/400\n",
            "4/4 [==============================] - 0s 6ms/step - loss: 0.8103 - accuracy: 0.8142\n",
            "Epoch 105/400\n",
            "4/4 [==============================] - 0s 5ms/step - loss: 0.7997 - accuracy: 0.8319\n",
            "Epoch 106/400\n",
            "4/4 [==============================] - 0s 5ms/step - loss: 0.7862 - accuracy: 0.8496\n",
            "Epoch 107/400\n",
            "4/4 [==============================] - 0s 6ms/step - loss: 0.7757 - accuracy: 0.8496\n",
            "Epoch 108/400\n",
            "4/4 [==============================] - 0s 7ms/step - loss: 0.7649 - accuracy: 0.8496\n",
            "Epoch 109/400\n",
            "4/4 [==============================] - 0s 6ms/step - loss: 0.7545 - accuracy: 0.8496\n",
            "Epoch 110/400\n",
            "4/4 [==============================] - 0s 6ms/step - loss: 0.7448 - accuracy: 0.8496\n",
            "Epoch 111/400\n",
            "4/4 [==============================] - 0s 5ms/step - loss: 0.7337 - accuracy: 0.8496\n",
            "Epoch 112/400\n",
            "4/4 [==============================] - 0s 5ms/step - loss: 0.7247 - accuracy: 0.8407\n",
            "Epoch 113/400\n",
            "4/4 [==============================] - 0s 6ms/step - loss: 0.7138 - accuracy: 0.8496\n",
            "Epoch 114/400\n",
            "4/4 [==============================] - 0s 6ms/step - loss: 0.7059 - accuracy: 0.8496\n",
            "Epoch 115/400\n",
            "4/4 [==============================] - 0s 5ms/step - loss: 0.6934 - accuracy: 0.8584\n",
            "Epoch 116/400\n",
            "4/4 [==============================] - 0s 5ms/step - loss: 0.6883 - accuracy: 0.8496\n",
            "Epoch 117/400\n",
            "4/4 [==============================] - 0s 5ms/step - loss: 0.6806 - accuracy: 0.8407\n",
            "Epoch 118/400\n",
            "4/4 [==============================] - 0s 5ms/step - loss: 0.6656 - accuracy: 0.8496\n",
            "Epoch 119/400\n",
            "4/4 [==============================] - 0s 5ms/step - loss: 0.6567 - accuracy: 0.8761\n",
            "Epoch 120/400\n",
            "4/4 [==============================] - 0s 5ms/step - loss: 0.6448 - accuracy: 0.8673\n",
            "Epoch 121/400\n",
            "4/4 [==============================] - 0s 5ms/step - loss: 0.6344 - accuracy: 0.8673\n",
            "Epoch 122/400\n",
            "4/4 [==============================] - 0s 5ms/step - loss: 0.6270 - accuracy: 0.8761\n",
            "Epoch 123/400\n",
            "4/4 [==============================] - 0s 6ms/step - loss: 0.6163 - accuracy: 0.8761\n",
            "Epoch 124/400\n",
            "4/4 [==============================] - 0s 5ms/step - loss: 0.6067 - accuracy: 0.8761\n",
            "Epoch 125/400\n",
            "4/4 [==============================] - 0s 6ms/step - loss: 0.5979 - accuracy: 0.8761\n",
            "Epoch 126/400\n",
            "4/4 [==============================] - 0s 6ms/step - loss: 0.5878 - accuracy: 0.8761\n",
            "Epoch 127/400\n",
            "4/4 [==============================] - 0s 7ms/step - loss: 0.5787 - accuracy: 0.8761\n",
            "Epoch 128/400\n",
            "4/4 [==============================] - 0s 5ms/step - loss: 0.5737 - accuracy: 0.8761\n",
            "Epoch 129/400\n",
            "4/4 [==============================] - 0s 6ms/step - loss: 0.5613 - accuracy: 0.8850\n",
            "Epoch 130/400\n",
            "4/4 [==============================] - 0s 5ms/step - loss: 0.5537 - accuracy: 0.8850\n",
            "Epoch 131/400\n",
            "4/4 [==============================] - 0s 5ms/step - loss: 0.5443 - accuracy: 0.8850\n",
            "Epoch 132/400\n",
            "4/4 [==============================] - 0s 5ms/step - loss: 0.5377 - accuracy: 0.8761\n",
            "Epoch 133/400\n",
            "4/4 [==============================] - 0s 6ms/step - loss: 0.5302 - accuracy: 0.8850\n",
            "Epoch 134/400\n",
            "4/4 [==============================] - 0s 5ms/step - loss: 0.5209 - accuracy: 0.8850\n",
            "Epoch 135/400\n",
            "4/4 [==============================] - 0s 8ms/step - loss: 0.5150 - accuracy: 0.8673\n",
            "Epoch 136/400\n",
            "4/4 [==============================] - 0s 5ms/step - loss: 0.5053 - accuracy: 0.8673\n",
            "Epoch 137/400\n",
            "4/4 [==============================] - 0s 5ms/step - loss: 0.4949 - accuracy: 0.8850\n",
            "Epoch 138/400\n",
            "4/4 [==============================] - 0s 5ms/step - loss: 0.4879 - accuracy: 0.8850\n",
            "Epoch 139/400\n",
            "4/4 [==============================] - 0s 6ms/step - loss: 0.4789 - accuracy: 0.8850\n",
            "Epoch 140/400\n",
            "4/4 [==============================] - 0s 6ms/step - loss: 0.4757 - accuracy: 0.8850\n",
            "Epoch 141/400\n",
            "4/4 [==============================] - 0s 6ms/step - loss: 0.4644 - accuracy: 0.8850\n",
            "Epoch 142/400\n",
            "4/4 [==============================] - 0s 5ms/step - loss: 0.4548 - accuracy: 0.8850\n",
            "Epoch 143/400\n",
            "4/4 [==============================] - 0s 6ms/step - loss: 0.4519 - accuracy: 0.8938\n",
            "Epoch 144/400\n",
            "4/4 [==============================] - 0s 5ms/step - loss: 0.4430 - accuracy: 0.9115\n",
            "Epoch 145/400\n",
            "4/4 [==============================] - 0s 6ms/step - loss: 0.4360 - accuracy: 0.9381\n",
            "Epoch 146/400\n",
            "4/4 [==============================] - 0s 6ms/step - loss: 0.4280 - accuracy: 0.9115\n",
            "Epoch 147/400\n",
            "4/4 [==============================] - 0s 6ms/step - loss: 0.4211 - accuracy: 0.8850\n",
            "Epoch 148/400\n",
            "4/4 [==============================] - 0s 5ms/step - loss: 0.4173 - accuracy: 0.9027\n",
            "Epoch 149/400\n",
            "4/4 [==============================] - 0s 6ms/step - loss: 0.4071 - accuracy: 0.9381\n",
            "Epoch 150/400\n",
            "4/4 [==============================] - 0s 6ms/step - loss: 0.4036 - accuracy: 0.9469\n",
            "Epoch 151/400\n",
            "4/4 [==============================] - 0s 5ms/step - loss: 0.3968 - accuracy: 0.9204\n",
            "Epoch 152/400\n",
            "4/4 [==============================] - 0s 6ms/step - loss: 0.3899 - accuracy: 0.9027\n",
            "Epoch 153/400\n",
            "4/4 [==============================] - 0s 6ms/step - loss: 0.3829 - accuracy: 0.9381\n",
            "Epoch 154/400\n",
            "4/4 [==============================] - 0s 6ms/step - loss: 0.3815 - accuracy: 0.9469\n",
            "Epoch 155/400\n",
            "4/4 [==============================] - 0s 5ms/step - loss: 0.3717 - accuracy: 0.9381\n",
            "Epoch 156/400\n",
            "4/4 [==============================] - 0s 6ms/step - loss: 0.3668 - accuracy: 0.9381\n",
            "Epoch 157/400\n",
            "4/4 [==============================] - 0s 6ms/step - loss: 0.3615 - accuracy: 0.9381\n",
            "Epoch 158/400\n",
            "4/4 [==============================] - 0s 6ms/step - loss: 0.3563 - accuracy: 0.9469\n",
            "Epoch 159/400\n",
            "4/4 [==============================] - 0s 6ms/step - loss: 0.3489 - accuracy: 0.9558\n",
            "Epoch 160/400\n",
            "4/4 [==============================] - 0s 7ms/step - loss: 0.3440 - accuracy: 0.9469\n",
            "Epoch 161/400\n",
            "4/4 [==============================] - 0s 6ms/step - loss: 0.3384 - accuracy: 0.9558\n",
            "Epoch 162/400\n",
            "4/4 [==============================] - 0s 5ms/step - loss: 0.3333 - accuracy: 0.9558\n",
            "Epoch 163/400\n",
            "4/4 [==============================] - 0s 6ms/step - loss: 0.3271 - accuracy: 0.9558\n",
            "Epoch 164/400\n",
            "4/4 [==============================] - 0s 5ms/step - loss: 0.3228 - accuracy: 0.9558\n",
            "Epoch 165/400\n",
            "4/4 [==============================] - 0s 6ms/step - loss: 0.3178 - accuracy: 0.9646\n",
            "Epoch 166/400\n",
            "4/4 [==============================] - 0s 6ms/step - loss: 0.3130 - accuracy: 0.9646\n",
            "Epoch 167/400\n",
            "4/4 [==============================] - 0s 5ms/step - loss: 0.3097 - accuracy: 0.9558\n",
            "Epoch 168/400\n",
            "4/4 [==============================] - 0s 9ms/step - loss: 0.3038 - accuracy: 0.9558\n",
            "Epoch 169/400\n",
            "4/4 [==============================] - 0s 6ms/step - loss: 0.2998 - accuracy: 0.9558\n",
            "Epoch 170/400\n",
            "4/4 [==============================] - 0s 5ms/step - loss: 0.2952 - accuracy: 0.9646\n",
            "Epoch 171/400\n",
            "4/4 [==============================] - 0s 5ms/step - loss: 0.2908 - accuracy: 0.9646\n",
            "Epoch 172/400\n",
            "4/4 [==============================] - 0s 6ms/step - loss: 0.2901 - accuracy: 0.9646\n",
            "Epoch 173/400\n",
            "4/4 [==============================] - 0s 6ms/step - loss: 0.2837 - accuracy: 0.9646\n",
            "Epoch 174/400\n",
            "4/4 [==============================] - 0s 5ms/step - loss: 0.2788 - accuracy: 0.9646\n",
            "Epoch 175/400\n",
            "4/4 [==============================] - 0s 6ms/step - loss: 0.2753 - accuracy: 0.9735\n",
            "Epoch 176/400\n",
            "4/4 [==============================] - 0s 6ms/step - loss: 0.2693 - accuracy: 0.9912\n",
            "Epoch 177/400\n",
            "4/4 [==============================] - 0s 6ms/step - loss: 0.2708 - accuracy: 0.9823\n",
            "Epoch 178/400\n",
            "4/4 [==============================] - 0s 6ms/step - loss: 0.2637 - accuracy: 0.9912\n",
            "Epoch 179/400\n",
            "4/4 [==============================] - 0s 6ms/step - loss: 0.2600 - accuracy: 0.9912\n",
            "Epoch 180/400\n",
            "4/4 [==============================] - 0s 5ms/step - loss: 0.2561 - accuracy: 0.9912\n",
            "Epoch 181/400\n",
            "4/4 [==============================] - 0s 5ms/step - loss: 0.2519 - accuracy: 0.9823\n",
            "Epoch 182/400\n",
            "4/4 [==============================] - 0s 6ms/step - loss: 0.2518 - accuracy: 0.9823\n",
            "Epoch 183/400\n",
            "4/4 [==============================] - 0s 8ms/step - loss: 0.2451 - accuracy: 0.9912\n",
            "Epoch 184/400\n",
            "4/4 [==============================] - 0s 6ms/step - loss: 0.2439 - accuracy: 0.9912\n",
            "Epoch 185/400\n",
            "4/4 [==============================] - 0s 5ms/step - loss: 0.2409 - accuracy: 0.9912\n",
            "Epoch 186/400\n",
            "4/4 [==============================] - 0s 8ms/step - loss: 0.2360 - accuracy: 0.9912\n",
            "Epoch 187/400\n",
            "4/4 [==============================] - 0s 5ms/step - loss: 0.2339 - accuracy: 0.9912\n",
            "Epoch 188/400\n",
            "4/4 [==============================] - 0s 6ms/step - loss: 0.2308 - accuracy: 0.9912\n",
            "Epoch 189/400\n",
            "4/4 [==============================] - 0s 7ms/step - loss: 0.2284 - accuracy: 0.9912\n",
            "Epoch 190/400\n",
            "4/4 [==============================] - 0s 6ms/step - loss: 0.2247 - accuracy: 0.9912\n",
            "Epoch 191/400\n",
            "4/4 [==============================] - 0s 6ms/step - loss: 0.2208 - accuracy: 0.9912\n",
            "Epoch 192/400\n",
            "4/4 [==============================] - 0s 6ms/step - loss: 0.2190 - accuracy: 1.0000\n",
            "Epoch 193/400\n",
            "4/4 [==============================] - 0s 6ms/step - loss: 0.2155 - accuracy: 1.0000\n",
            "Epoch 194/400\n",
            "4/4 [==============================] - 0s 5ms/step - loss: 0.2137 - accuracy: 0.9912\n",
            "Epoch 195/400\n",
            "4/4 [==============================] - 0s 6ms/step - loss: 0.2112 - accuracy: 0.9912\n",
            "Epoch 196/400\n",
            "4/4 [==============================] - 0s 6ms/step - loss: 0.2074 - accuracy: 1.0000\n",
            "Epoch 197/400\n",
            "4/4 [==============================] - 0s 6ms/step - loss: 0.2064 - accuracy: 1.0000\n",
            "Epoch 198/400\n",
            "4/4 [==============================] - 0s 7ms/step - loss: 0.2026 - accuracy: 1.0000\n",
            "Epoch 199/400\n",
            "4/4 [==============================] - 0s 6ms/step - loss: 0.2006 - accuracy: 1.0000\n",
            "Epoch 200/400\n",
            "4/4 [==============================] - 0s 6ms/step - loss: 0.1976 - accuracy: 1.0000\n",
            "Epoch 201/400\n",
            "4/4 [==============================] - 0s 7ms/step - loss: 0.1959 - accuracy: 1.0000\n",
            "Epoch 202/400\n",
            "4/4 [==============================] - 0s 6ms/step - loss: 0.1937 - accuracy: 1.0000\n",
            "Epoch 203/400\n",
            "4/4 [==============================] - 0s 6ms/step - loss: 0.1928 - accuracy: 1.0000\n",
            "Epoch 204/400\n",
            "4/4 [==============================] - 0s 5ms/step - loss: 0.1922 - accuracy: 1.0000\n",
            "Epoch 205/400\n",
            "4/4 [==============================] - 0s 5ms/step - loss: 0.1888 - accuracy: 1.0000\n",
            "Epoch 206/400\n",
            "4/4 [==============================] - 0s 6ms/step - loss: 0.1842 - accuracy: 1.0000\n",
            "Epoch 207/400\n",
            "4/4 [==============================] - 0s 6ms/step - loss: 0.1850 - accuracy: 1.0000\n",
            "Epoch 208/400\n",
            "4/4 [==============================] - 0s 5ms/step - loss: 0.1807 - accuracy: 1.0000\n",
            "Epoch 209/400\n",
            "4/4 [==============================] - 0s 6ms/step - loss: 0.1802 - accuracy: 1.0000\n",
            "Epoch 210/400\n",
            "4/4 [==============================] - 0s 6ms/step - loss: 0.1771 - accuracy: 1.0000\n",
            "Epoch 211/400\n",
            "4/4 [==============================] - 0s 6ms/step - loss: 0.1746 - accuracy: 1.0000\n",
            "Epoch 212/400\n",
            "4/4 [==============================] - 0s 6ms/step - loss: 0.1725 - accuracy: 1.0000\n",
            "Epoch 213/400\n",
            "4/4 [==============================] - 0s 5ms/step - loss: 0.1702 - accuracy: 1.0000\n",
            "Epoch 214/400\n",
            "4/4 [==============================] - 0s 6ms/step - loss: 0.1682 - accuracy: 1.0000\n",
            "Epoch 215/400\n",
            "4/4 [==============================] - 0s 7ms/step - loss: 0.1670 - accuracy: 1.0000\n",
            "Epoch 216/400\n",
            "4/4 [==============================] - 0s 6ms/step - loss: 0.1646 - accuracy: 1.0000\n",
            "Epoch 217/400\n",
            "4/4 [==============================] - 0s 6ms/step - loss: 0.1635 - accuracy: 1.0000\n",
            "Epoch 218/400\n",
            "4/4 [==============================] - 0s 6ms/step - loss: 0.1612 - accuracy: 1.0000\n",
            "Epoch 219/400\n",
            "4/4 [==============================] - 0s 6ms/step - loss: 0.1594 - accuracy: 1.0000\n",
            "Epoch 220/400\n",
            "4/4 [==============================] - 0s 6ms/step - loss: 0.1587 - accuracy: 1.0000\n",
            "Epoch 221/400\n",
            "4/4 [==============================] - 0s 6ms/step - loss: 0.1560 - accuracy: 1.0000\n",
            "Epoch 222/400\n",
            "4/4 [==============================] - 0s 6ms/step - loss: 0.1546 - accuracy: 1.0000\n",
            "Epoch 223/400\n",
            "4/4 [==============================] - 0s 6ms/step - loss: 0.1523 - accuracy: 1.0000\n",
            "Epoch 224/400\n",
            "4/4 [==============================] - 0s 8ms/step - loss: 0.1528 - accuracy: 1.0000\n",
            "Epoch 225/400\n",
            "4/4 [==============================] - 0s 6ms/step - loss: 0.1496 - accuracy: 1.0000\n",
            "Epoch 226/400\n",
            "4/4 [==============================] - 0s 6ms/step - loss: 0.1485 - accuracy: 1.0000\n",
            "Epoch 227/400\n",
            "4/4 [==============================] - 0s 6ms/step - loss: 0.1458 - accuracy: 1.0000\n",
            "Epoch 228/400\n",
            "4/4 [==============================] - 0s 6ms/step - loss: 0.1464 - accuracy: 1.0000\n",
            "Epoch 229/400\n",
            "4/4 [==============================] - 0s 6ms/step - loss: 0.1437 - accuracy: 1.0000\n",
            "Epoch 230/400\n",
            "4/4 [==============================] - 0s 8ms/step - loss: 0.1430 - accuracy: 1.0000\n",
            "Epoch 231/400\n",
            "4/4 [==============================] - 0s 6ms/step - loss: 0.1406 - accuracy: 1.0000\n",
            "Epoch 232/400\n",
            "4/4 [==============================] - 0s 7ms/step - loss: 0.1386 - accuracy: 1.0000\n",
            "Epoch 233/400\n",
            "4/4 [==============================] - 0s 5ms/step - loss: 0.1379 - accuracy: 1.0000\n",
            "Epoch 234/400\n",
            "4/4 [==============================] - 0s 7ms/step - loss: 0.1361 - accuracy: 1.0000\n",
            "Epoch 235/400\n",
            "4/4 [==============================] - 0s 6ms/step - loss: 0.1357 - accuracy: 1.0000\n",
            "Epoch 236/400\n",
            "4/4 [==============================] - 0s 7ms/step - loss: 0.1330 - accuracy: 1.0000\n",
            "Epoch 237/400\n",
            "4/4 [==============================] - 0s 6ms/step - loss: 0.1324 - accuracy: 1.0000\n",
            "Epoch 238/400\n",
            "4/4 [==============================] - 0s 6ms/step - loss: 0.1306 - accuracy: 1.0000\n",
            "Epoch 239/400\n",
            "4/4 [==============================] - 0s 8ms/step - loss: 0.1298 - accuracy: 1.0000\n",
            "Epoch 240/400\n",
            "4/4 [==============================] - 0s 5ms/step - loss: 0.1283 - accuracy: 1.0000\n",
            "Epoch 241/400\n",
            "4/4 [==============================] - 0s 6ms/step - loss: 0.1268 - accuracy: 1.0000\n",
            "Epoch 242/400\n",
            "4/4 [==============================] - 0s 7ms/step - loss: 0.1258 - accuracy: 1.0000\n",
            "Epoch 243/400\n",
            "4/4 [==============================] - 0s 6ms/step - loss: 0.1240 - accuracy: 1.0000\n",
            "Epoch 244/400\n",
            "4/4 [==============================] - 0s 6ms/step - loss: 0.1233 - accuracy: 1.0000\n",
            "Epoch 245/400\n",
            "4/4 [==============================] - 0s 6ms/step - loss: 0.1217 - accuracy: 1.0000\n",
            "Epoch 246/400\n",
            "4/4 [==============================] - 0s 5ms/step - loss: 0.1209 - accuracy: 1.0000\n",
            "Epoch 247/400\n",
            "4/4 [==============================] - 0s 5ms/step - loss: 0.1203 - accuracy: 1.0000\n",
            "Epoch 248/400\n",
            "4/4 [==============================] - 0s 6ms/step - loss: 0.1183 - accuracy: 1.0000\n",
            "Epoch 249/400\n",
            "4/4 [==============================] - 0s 6ms/step - loss: 0.1173 - accuracy: 1.0000\n",
            "Epoch 250/400\n",
            "4/4 [==============================] - 0s 6ms/step - loss: 0.1165 - accuracy: 1.0000\n",
            "Epoch 251/400\n",
            "4/4 [==============================] - 0s 6ms/step - loss: 0.1154 - accuracy: 1.0000\n",
            "Epoch 252/400\n",
            "4/4 [==============================] - 0s 6ms/step - loss: 0.1141 - accuracy: 1.0000\n",
            "Epoch 253/400\n",
            "4/4 [==============================] - 0s 6ms/step - loss: 0.1133 - accuracy: 1.0000\n",
            "Epoch 254/400\n",
            "4/4 [==============================] - 0s 6ms/step - loss: 0.1121 - accuracy: 1.0000\n",
            "Epoch 255/400\n",
            "4/4 [==============================] - 0s 6ms/step - loss: 0.1111 - accuracy: 1.0000\n",
            "Epoch 256/400\n",
            "4/4 [==============================] - 0s 6ms/step - loss: 0.1101 - accuracy: 1.0000\n",
            "Epoch 257/400\n",
            "4/4 [==============================] - 0s 6ms/step - loss: 0.1092 - accuracy: 1.0000\n",
            "Epoch 258/400\n",
            "4/4 [==============================] - 0s 6ms/step - loss: 0.1084 - accuracy: 1.0000\n",
            "Epoch 259/400\n",
            "4/4 [==============================] - 0s 9ms/step - loss: 0.1078 - accuracy: 1.0000\n",
            "Epoch 260/400\n",
            "4/4 [==============================] - 0s 10ms/step - loss: 0.1067 - accuracy: 1.0000\n",
            "Epoch 261/400\n",
            "4/4 [==============================] - 0s 7ms/step - loss: 0.1051 - accuracy: 1.0000\n",
            "Epoch 262/400\n",
            "4/4 [==============================] - 0s 6ms/step - loss: 0.1052 - accuracy: 1.0000\n",
            "Epoch 263/400\n",
            "4/4 [==============================] - 0s 7ms/step - loss: 0.1035 - accuracy: 1.0000\n",
            "Epoch 264/400\n",
            "4/4 [==============================] - 0s 6ms/step - loss: 0.1024 - accuracy: 1.0000\n",
            "Epoch 265/400\n",
            "4/4 [==============================] - 0s 6ms/step - loss: 0.1015 - accuracy: 1.0000\n",
            "Epoch 266/400\n",
            "4/4 [==============================] - 0s 7ms/step - loss: 0.1012 - accuracy: 1.0000\n",
            "Epoch 267/400\n",
            "4/4 [==============================] - 0s 6ms/step - loss: 0.1000 - accuracy: 1.0000\n",
            "Epoch 268/400\n",
            "4/4 [==============================] - 0s 6ms/step - loss: 0.0988 - accuracy: 1.0000\n",
            "Epoch 269/400\n",
            "4/4 [==============================] - 0s 6ms/step - loss: 0.0980 - accuracy: 1.0000\n",
            "Epoch 270/400\n",
            "4/4 [==============================] - 0s 7ms/step - loss: 0.0971 - accuracy: 1.0000\n",
            "Epoch 271/400\n",
            "4/4 [==============================] - 0s 7ms/step - loss: 0.0964 - accuracy: 1.0000\n",
            "Epoch 272/400\n",
            "4/4 [==============================] - 0s 6ms/step - loss: 0.0954 - accuracy: 1.0000\n",
            "Epoch 273/400\n",
            "4/4 [==============================] - 0s 6ms/step - loss: 0.0949 - accuracy: 1.0000\n",
            "Epoch 274/400\n",
            "4/4 [==============================] - 0s 6ms/step - loss: 0.0942 - accuracy: 1.0000\n",
            "Epoch 275/400\n",
            "4/4 [==============================] - 0s 6ms/step - loss: 0.0931 - accuracy: 1.0000\n",
            "Epoch 276/400\n",
            "4/4 [==============================] - 0s 6ms/step - loss: 0.0922 - accuracy: 1.0000\n",
            "Epoch 277/400\n",
            "4/4 [==============================] - 0s 6ms/step - loss: 0.0916 - accuracy: 1.0000\n",
            "Epoch 278/400\n",
            "4/4 [==============================] - 0s 6ms/step - loss: 0.0909 - accuracy: 1.0000\n",
            "Epoch 279/400\n",
            "4/4 [==============================] - 0s 6ms/step - loss: 0.0899 - accuracy: 1.0000\n",
            "Epoch 280/400\n",
            "4/4 [==============================] - 0s 6ms/step - loss: 0.0899 - accuracy: 1.0000\n",
            "Epoch 281/400\n",
            "4/4 [==============================] - 0s 6ms/step - loss: 0.0883 - accuracy: 1.0000\n",
            "Epoch 282/400\n",
            "4/4 [==============================] - 0s 6ms/step - loss: 0.0876 - accuracy: 1.0000\n",
            "Epoch 283/400\n",
            "4/4 [==============================] - 0s 6ms/step - loss: 0.0869 - accuracy: 1.0000\n",
            "Epoch 284/400\n",
            "4/4 [==============================] - 0s 6ms/step - loss: 0.0862 - accuracy: 1.0000\n",
            "Epoch 285/400\n",
            "4/4 [==============================] - 0s 6ms/step - loss: 0.0853 - accuracy: 1.0000\n",
            "Epoch 286/400\n",
            "4/4 [==============================] - 0s 6ms/step - loss: 0.0848 - accuracy: 1.0000\n",
            "Epoch 287/400\n",
            "4/4 [==============================] - 0s 6ms/step - loss: 0.0840 - accuracy: 1.0000\n",
            "Epoch 288/400\n",
            "4/4 [==============================] - 0s 6ms/step - loss: 0.0833 - accuracy: 1.0000\n",
            "Epoch 289/400\n",
            "4/4 [==============================] - 0s 9ms/step - loss: 0.0827 - accuracy: 1.0000\n",
            "Epoch 290/400\n",
            "4/4 [==============================] - 0s 6ms/step - loss: 0.0819 - accuracy: 1.0000\n",
            "Epoch 291/400\n",
            "4/4 [==============================] - 0s 6ms/step - loss: 0.0812 - accuracy: 1.0000\n",
            "Epoch 292/400\n",
            "4/4 [==============================] - 0s 6ms/step - loss: 0.0807 - accuracy: 1.0000\n",
            "Epoch 293/400\n",
            "4/4 [==============================] - 0s 5ms/step - loss: 0.0801 - accuracy: 1.0000\n",
            "Epoch 294/400\n",
            "4/4 [==============================] - 0s 6ms/step - loss: 0.0796 - accuracy: 1.0000\n",
            "Epoch 295/400\n",
            "4/4 [==============================] - 0s 6ms/step - loss: 0.0789 - accuracy: 1.0000\n",
            "Epoch 296/400\n",
            "4/4 [==============================] - 0s 7ms/step - loss: 0.0780 - accuracy: 1.0000\n",
            "Epoch 297/400\n",
            "4/4 [==============================] - 0s 6ms/step - loss: 0.0776 - accuracy: 1.0000\n",
            "Epoch 298/400\n",
            "4/4 [==============================] - 0s 6ms/step - loss: 0.0769 - accuracy: 1.0000\n",
            "Epoch 299/400\n",
            "4/4 [==============================] - 0s 6ms/step - loss: 0.0763 - accuracy: 1.0000\n",
            "Epoch 300/400\n",
            "4/4 [==============================] - 0s 6ms/step - loss: 0.0757 - accuracy: 1.0000\n",
            "Epoch 301/400\n",
            "4/4 [==============================] - 0s 6ms/step - loss: 0.0751 - accuracy: 1.0000\n",
            "Epoch 302/400\n",
            "4/4 [==============================] - 0s 6ms/step - loss: 0.0745 - accuracy: 1.0000\n",
            "Epoch 303/400\n",
            "4/4 [==============================] - 0s 8ms/step - loss: 0.0743 - accuracy: 1.0000\n",
            "Epoch 304/400\n",
            "4/4 [==============================] - 0s 6ms/step - loss: 0.0734 - accuracy: 1.0000\n",
            "Epoch 305/400\n",
            "4/4 [==============================] - 0s 6ms/step - loss: 0.0732 - accuracy: 1.0000\n",
            "Epoch 306/400\n",
            "4/4 [==============================] - 0s 5ms/step - loss: 0.0722 - accuracy: 1.0000\n",
            "Epoch 307/400\n",
            "4/4 [==============================] - 0s 6ms/step - loss: 0.0717 - accuracy: 1.0000\n",
            "Epoch 308/400\n",
            "4/4 [==============================] - 0s 6ms/step - loss: 0.0713 - accuracy: 1.0000\n",
            "Epoch 309/400\n",
            "4/4 [==============================] - 0s 6ms/step - loss: 0.0706 - accuracy: 1.0000\n",
            "Epoch 310/400\n",
            "4/4 [==============================] - 0s 6ms/step - loss: 0.0700 - accuracy: 1.0000\n",
            "Epoch 311/400\n",
            "4/4 [==============================] - 0s 6ms/step - loss: 0.0695 - accuracy: 1.0000\n",
            "Epoch 312/400\n",
            "4/4 [==============================] - 0s 6ms/step - loss: 0.0687 - accuracy: 1.0000\n",
            "Epoch 313/400\n",
            "4/4 [==============================] - 0s 7ms/step - loss: 0.0685 - accuracy: 1.0000\n",
            "Epoch 314/400\n",
            "4/4 [==============================] - 0s 6ms/step - loss: 0.0680 - accuracy: 1.0000\n",
            "Epoch 315/400\n",
            "4/4 [==============================] - 0s 6ms/step - loss: 0.0676 - accuracy: 1.0000\n",
            "Epoch 316/400\n",
            "4/4 [==============================] - 0s 6ms/step - loss: 0.0670 - accuracy: 1.0000\n",
            "Epoch 317/400\n",
            "4/4 [==============================] - 0s 6ms/step - loss: 0.0664 - accuracy: 1.0000\n",
            "Epoch 318/400\n",
            "4/4 [==============================] - 0s 9ms/step - loss: 0.0659 - accuracy: 1.0000\n",
            "Epoch 319/400\n",
            "4/4 [==============================] - 0s 8ms/step - loss: 0.0656 - accuracy: 1.0000\n",
            "Epoch 320/400\n",
            "4/4 [==============================] - 0s 6ms/step - loss: 0.0651 - accuracy: 1.0000\n",
            "Epoch 321/400\n",
            "4/4 [==============================] - 0s 6ms/step - loss: 0.0645 - accuracy: 1.0000\n",
            "Epoch 322/400\n",
            "4/4 [==============================] - 0s 6ms/step - loss: 0.0641 - accuracy: 1.0000\n",
            "Epoch 323/400\n",
            "4/4 [==============================] - 0s 6ms/step - loss: 0.0636 - accuracy: 1.0000\n",
            "Epoch 324/400\n",
            "4/4 [==============================] - 0s 6ms/step - loss: 0.0632 - accuracy: 1.0000\n",
            "Epoch 325/400\n",
            "4/4 [==============================] - 0s 6ms/step - loss: 0.0628 - accuracy: 1.0000\n",
            "Epoch 326/400\n",
            "4/4 [==============================] - 0s 6ms/step - loss: 0.0620 - accuracy: 1.0000\n",
            "Epoch 327/400\n",
            "4/4 [==============================] - 0s 6ms/step - loss: 0.0616 - accuracy: 1.0000\n",
            "Epoch 328/400\n",
            "4/4 [==============================] - 0s 7ms/step - loss: 0.0614 - accuracy: 1.0000\n",
            "Epoch 329/400\n",
            "4/4 [==============================] - 0s 7ms/step - loss: 0.0609 - accuracy: 1.0000\n",
            "Epoch 330/400\n",
            "4/4 [==============================] - 0s 7ms/step - loss: 0.0607 - accuracy: 1.0000\n",
            "Epoch 331/400\n",
            "4/4 [==============================] - 0s 7ms/step - loss: 0.0600 - accuracy: 1.0000\n",
            "Epoch 332/400\n",
            "4/4 [==============================] - 0s 6ms/step - loss: 0.0597 - accuracy: 1.0000\n",
            "Epoch 333/400\n",
            "4/4 [==============================] - 0s 6ms/step - loss: 0.0591 - accuracy: 1.0000\n",
            "Epoch 334/400\n",
            "4/4 [==============================] - 0s 6ms/step - loss: 0.0586 - accuracy: 1.0000\n",
            "Epoch 335/400\n",
            "4/4 [==============================] - 0s 6ms/step - loss: 0.0582 - accuracy: 1.0000\n",
            "Epoch 336/400\n",
            "4/4 [==============================] - 0s 6ms/step - loss: 0.0578 - accuracy: 1.0000\n",
            "Epoch 337/400\n",
            "4/4 [==============================] - 0s 6ms/step - loss: 0.0575 - accuracy: 1.0000\n",
            "Epoch 338/400\n",
            "4/4 [==============================] - 0s 6ms/step - loss: 0.0570 - accuracy: 1.0000\n",
            "Epoch 339/400\n",
            "4/4 [==============================] - 0s 6ms/step - loss: 0.0567 - accuracy: 1.0000\n",
            "Epoch 340/400\n",
            "4/4 [==============================] - 0s 6ms/step - loss: 0.0561 - accuracy: 1.0000\n",
            "Epoch 341/400\n",
            "4/4 [==============================] - 0s 6ms/step - loss: 0.0559 - accuracy: 1.0000\n",
            "Epoch 342/400\n",
            "4/4 [==============================] - 0s 6ms/step - loss: 0.0558 - accuracy: 1.0000\n",
            "Epoch 343/400\n",
            "4/4 [==============================] - 0s 6ms/step - loss: 0.0551 - accuracy: 1.0000\n",
            "Epoch 344/400\n",
            "4/4 [==============================] - 0s 6ms/step - loss: 0.0548 - accuracy: 1.0000\n",
            "Epoch 345/400\n",
            "4/4 [==============================] - 0s 6ms/step - loss: 0.0546 - accuracy: 1.0000\n",
            "Epoch 346/400\n",
            "4/4 [==============================] - 0s 6ms/step - loss: 0.0539 - accuracy: 1.0000\n",
            "Epoch 347/400\n",
            "4/4 [==============================] - 0s 8ms/step - loss: 0.0538 - accuracy: 1.0000\n",
            "Epoch 348/400\n",
            "4/4 [==============================] - 0s 6ms/step - loss: 0.0533 - accuracy: 1.0000\n",
            "Epoch 349/400\n",
            "4/4 [==============================] - 0s 5ms/step - loss: 0.0531 - accuracy: 1.0000\n",
            "Epoch 350/400\n",
            "4/4 [==============================] - 0s 5ms/step - loss: 0.0528 - accuracy: 1.0000\n",
            "Epoch 351/400\n",
            "4/4 [==============================] - 0s 6ms/step - loss: 0.0522 - accuracy: 1.0000\n",
            "Epoch 352/400\n",
            "4/4 [==============================] - 0s 7ms/step - loss: 0.0518 - accuracy: 1.0000\n",
            "Epoch 353/400\n",
            "4/4 [==============================] - 0s 6ms/step - loss: 0.0517 - accuracy: 1.0000\n",
            "Epoch 354/400\n",
            "4/4 [==============================] - 0s 6ms/step - loss: 0.0511 - accuracy: 1.0000\n",
            "Epoch 355/400\n",
            "4/4 [==============================] - 0s 7ms/step - loss: 0.0507 - accuracy: 1.0000\n",
            "Epoch 356/400\n",
            "4/4 [==============================] - 0s 6ms/step - loss: 0.0507 - accuracy: 1.0000\n",
            "Epoch 357/400\n",
            "4/4 [==============================] - 0s 6ms/step - loss: 0.0503 - accuracy: 1.0000\n",
            "Epoch 358/400\n",
            "4/4 [==============================] - 0s 8ms/step - loss: 0.0496 - accuracy: 1.0000\n",
            "Epoch 359/400\n",
            "4/4 [==============================] - 0s 6ms/step - loss: 0.0497 - accuracy: 1.0000\n",
            "Epoch 360/400\n",
            "4/4 [==============================] - 0s 7ms/step - loss: 0.0495 - accuracy: 1.0000\n",
            "Epoch 361/400\n",
            "4/4 [==============================] - 0s 6ms/step - loss: 0.0486 - accuracy: 1.0000\n",
            "Epoch 362/400\n",
            "4/4 [==============================] - 0s 6ms/step - loss: 0.0485 - accuracy: 1.0000\n",
            "Epoch 363/400\n",
            "4/4 [==============================] - 0s 5ms/step - loss: 0.0486 - accuracy: 1.0000\n",
            "Epoch 364/400\n",
            "4/4 [==============================] - 0s 6ms/step - loss: 0.0480 - accuracy: 1.0000\n",
            "Epoch 365/400\n",
            "4/4 [==============================] - 0s 6ms/step - loss: 0.0475 - accuracy: 1.0000\n",
            "Epoch 366/400\n",
            "4/4 [==============================] - 0s 6ms/step - loss: 0.0474 - accuracy: 1.0000\n",
            "Epoch 367/400\n",
            "4/4 [==============================] - 0s 6ms/step - loss: 0.0472 - accuracy: 1.0000\n",
            "Epoch 368/400\n",
            "4/4 [==============================] - 0s 6ms/step - loss: 0.0466 - accuracy: 1.0000\n",
            "Epoch 369/400\n",
            "4/4 [==============================] - 0s 6ms/step - loss: 0.0464 - accuracy: 1.0000\n",
            "Epoch 370/400\n",
            "4/4 [==============================] - 0s 6ms/step - loss: 0.0464 - accuracy: 1.0000\n",
            "Epoch 371/400\n",
            "4/4 [==============================] - 0s 6ms/step - loss: 0.0459 - accuracy: 1.0000\n",
            "Epoch 372/400\n",
            "4/4 [==============================] - 0s 7ms/step - loss: 0.0457 - accuracy: 1.0000\n",
            "Epoch 373/400\n",
            "4/4 [==============================] - 0s 6ms/step - loss: 0.0453 - accuracy: 1.0000\n",
            "Epoch 374/400\n",
            "4/4 [==============================] - 0s 6ms/step - loss: 0.0449 - accuracy: 1.0000\n",
            "Epoch 375/400\n",
            "4/4 [==============================] - 0s 6ms/step - loss: 0.0447 - accuracy: 1.0000\n",
            "Epoch 376/400\n",
            "4/4 [==============================] - 0s 5ms/step - loss: 0.0444 - accuracy: 1.0000\n",
            "Epoch 377/400\n",
            "4/4 [==============================] - 0s 8ms/step - loss: 0.0441 - accuracy: 1.0000\n",
            "Epoch 378/400\n",
            "4/4 [==============================] - 0s 8ms/step - loss: 0.0437 - accuracy: 1.0000\n",
            "Epoch 379/400\n",
            "4/4 [==============================] - 0s 6ms/step - loss: 0.0436 - accuracy: 1.0000\n",
            "Epoch 380/400\n",
            "4/4 [==============================] - 0s 6ms/step - loss: 0.0432 - accuracy: 1.0000\n",
            "Epoch 381/400\n",
            "4/4 [==============================] - 0s 7ms/step - loss: 0.0429 - accuracy: 1.0000\n",
            "Epoch 382/400\n",
            "4/4 [==============================] - 0s 6ms/step - loss: 0.0427 - accuracy: 1.0000\n",
            "Epoch 383/400\n",
            "4/4 [==============================] - 0s 6ms/step - loss: 0.0424 - accuracy: 1.0000\n",
            "Epoch 384/400\n",
            "4/4 [==============================] - 0s 7ms/step - loss: 0.0422 - accuracy: 1.0000\n",
            "Epoch 385/400\n",
            "4/4 [==============================] - 0s 7ms/step - loss: 0.0419 - accuracy: 1.0000\n",
            "Epoch 386/400\n",
            "4/4 [==============================] - 0s 7ms/step - loss: 0.0416 - accuracy: 1.0000\n",
            "Epoch 387/400\n",
            "4/4 [==============================] - 0s 6ms/step - loss: 0.0414 - accuracy: 1.0000\n",
            "Epoch 388/400\n",
            "4/4 [==============================] - 0s 6ms/step - loss: 0.0411 - accuracy: 1.0000\n",
            "Epoch 389/400\n",
            "4/4 [==============================] - 0s 6ms/step - loss: 0.0409 - accuracy: 1.0000\n",
            "Epoch 390/400\n",
            "4/4 [==============================] - 0s 6ms/step - loss: 0.0407 - accuracy: 1.0000\n",
            "Epoch 391/400\n",
            "4/4 [==============================] - 0s 6ms/step - loss: 0.0405 - accuracy: 1.0000\n",
            "Epoch 392/400\n",
            "4/4 [==============================] - 0s 7ms/step - loss: 0.0401 - accuracy: 1.0000\n",
            "Epoch 393/400\n",
            "4/4 [==============================] - 0s 7ms/step - loss: 0.0399 - accuracy: 1.0000\n",
            "Epoch 394/400\n",
            "4/4 [==============================] - 0s 8ms/step - loss: 0.0398 - accuracy: 1.0000\n",
            "Epoch 395/400\n",
            "4/4 [==============================] - 0s 6ms/step - loss: 0.0394 - accuracy: 1.0000\n",
            "Epoch 396/400\n",
            "4/4 [==============================] - 0s 7ms/step - loss: 0.0393 - accuracy: 1.0000\n",
            "Epoch 397/400\n",
            "4/4 [==============================] - 0s 6ms/step - loss: 0.0392 - accuracy: 1.0000\n",
            "Epoch 398/400\n",
            "4/4 [==============================] - 0s 6ms/step - loss: 0.0388 - accuracy: 1.0000\n",
            "Epoch 399/400\n",
            "4/4 [==============================] - 0s 7ms/step - loss: 0.0384 - accuracy: 1.0000\n",
            "Epoch 400/400\n",
            "4/4 [==============================] - 0s 7ms/step - loss: 0.0385 - accuracy: 1.0000\n"
          ]
        }
      ]
    },
    {
      "cell_type": "markdown",
      "source": [
        "# **Model Analysis**"
      ],
      "metadata": {
        "id": "-9pgVeDT2y2E"
      }
    },
    {
      "cell_type": "code",
      "source": [
        "plt.figure(figsize=(14, 5))\n",
        "plt.subplot(1, 2, 1)\n",
        "plt.plot(train.history['accuracy'],label='Training Set Accuracy')\n",
        "plt.legend(loc='lower right')\n",
        "plt.title('Accuracy')\n",
        "\n",
        "plt.subplot(1, 2, 2)\n",
        "plt.plot(train.history['loss'],label='Training Set Loss')\n",
        "plt.legend(loc='upper right')\n",
        "plt.title('Loss')\n",
        "plt.show()"
      ],
      "metadata": {
        "id": "2UFmsQUpgcBR",
        "colab": {
          "base_uri": "https://localhost:8080/",
          "height": 336
        },
        "outputId": "f836a0c1-bff0-4511-88cc-ddf83e4b27ea"
      },
      "execution_count": null,
      "outputs": [
        {
          "output_type": "display_data",
          "data": {
            "text/plain": [
              "<Figure size 1008x360 with 2 Axes>"
            ],
            "image/png": "[encoded data removed]"
          },
          "metadata": {
            "needs_background": "light"
          }
        }
      ]
    },
    {
      "cell_type": "markdown",
      "source": [
        "# **Testing Chatbot Dan Tambahkan Suara Pada Chatbot**"
      ],
      "metadata": {
        "id": "R79NOdPE4Bao"
      }
    },
    {
      "cell_type": "code",
      "source": [
        "# Membuat Input Chat\n",
        "while True:\n",
        "  texts_p = []\n",
        "  prediction_input = input('👨‍🦰 Kamu : ')\n",
        "  \n",
        "  # Menghapus punktuasi dan konversi ke huruf kecil\n",
        "  prediction_input = [letters.lower() for letters in prediction_input if letters not in string.punctuation]\n",
        "  prediction_input = ''.join(prediction_input)\n",
        "  texts_p.append(prediction_input)\n",
        "\n",
        "  # Tokenisasi dan Padding\n",
        "  prediction_input = tokenizer.texts_to_sequences(texts_p)\n",
        "  prediction_input = np.array(prediction_input).reshape(-1)\n",
        "  prediction_input = pad_sequences([prediction_input],input_shape)\n",
        "\n",
        "  # Mendapatkan hasil keluaran pada model \n",
        "  output = model.predict(prediction_input)\n",
        "  output = output.argmax()\n",
        "\n",
        "# Menemukan respon sesuai data tag dan memainkan voice bot\n",
        "  response_tag = le.inverse_transform([output])[0]\n",
        "  print(\"🤖 Pulmobot : \", random.choice(responses[response_tag]))\n",
        "  tts = gTTS(random.choice(responses[response_tag]), lang='id')\n",
        "\n",
        "  # Simpan model voice bot ke dalam Google Drive\n",
        "  tts.save('/content/drive/MyDrive/NLP/pulmobot/model/Pulmobot.wav')\n",
        "  time.sleep(0.08)\n",
        "\n",
        "  # Load model voice bot from Google Drive\n",
        "  ipd.display(ipd.Audio('/content/drive/MyDrive/NLP/pulmobot/model/Pulmobot.wav', autoplay=False))\n",
        "  print(\"=\"*60 + \"\\n\")\n",
        "\n",
        "  # Tambahkan respon 'goodbye' agar bot bisa berhenti\n",
        "  if response_tag == \"goodbye\":\n",
        "    break\n"
      ],
      "metadata": {
        "id": "-GWajt4uf0LH",
        "colab": {
          "base_uri": "https://localhost:8080/",
          "height": 327
        },
        "outputId": "d8dd583a-0068-4d7b-e809-a3bc8d2047fc"
      },
      "execution_count": null,
      "outputs": [
        {
          "output_type": "stream",
          "name": "stdout",
          "text": [
            "👨‍🦰 Kamu : pneumonia\n",
            "1/1 [==============================] - 0s 15ms/step\n",
            "🤖 Pulmobot :  Pneumonia atau paru-paru basah atau disebut juga radang paru-paru adalah infeksi paru-paru yang disebabkan oleh bakteri, virus, jamur atau parasit.\n"
          ]
        },
        {
          "output_type": "display_data",
          "data": {
            "text/plain": [
              "<IPython.lib.display.Audio object>"
            ],
            "text/html": [
              "\n",
              "                <audio  controls=\"controls\" >\n",
              "                    <source src=\"data:audio/x-wav;base64,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\" type=\"audio/x-wav\" />\n",
              "                    Your browser does not support the audio element.\n",
              "                </audio>\n",
              "              "
            ]
          },
          "metadata": {}
        },
        {
          "output_type": "stream",
          "name": "stdout",
          "text": [
            "============================================================\n",
            "\n",
            "👨‍🦰 Kamu : dah\n",
            "1/1 [==============================] - 0s 16ms/step\n",
            "🤖 Pulmobot :  Bye!\n"
          ]
        },
        {
          "output_type": "display_data",
          "data": {
            "text/plain": [
              "<IPython.lib.display.Audio object>"
            ],
            "text/html": [
              "\n",
              "                <audio  controls=\"controls\" >\n",
              "                    <source src=\"data:audio/x-wav;base64,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\" type=\"audio/x-wav\" />\n",
              "                    Your browser does not support the audio element.\n",
              "                </audio>\n",
              "              "
            ]
          },
          "metadata": {}
        },
        {
          "output_type": "stream",
          "name": "stdout",
          "text": [
            "============================================================\n",
            "\n"
          ]
        }
      ]
    },
    {
      "cell_type": "markdown",
      "source": [
        "# **Save The Model**"
      ],
      "metadata": {
        "id": "BOE_ajNX5ik_"
      }
    },
    {
      "cell_type": "code",
      "source": [
        "# Simpan model dalam bentuk format file .h5 atau .pkl (pickle)\n",
        "model.save('/content/drive/MyDrive/NLP/pulmobot/model/model.h5')\n",
        "\n",
        "print('Model Created Successfully!')"
      ],
      "metadata": {
        "id": "Y74Y7oTKijAU",
        "colab": {
          "base_uri": "https://localhost:8080/"
        },
        "outputId": "69062e13-8bf9-4ce3-eba7-34732d835474"
      },
      "execution_count": null,
      "outputs": [
        {
          "output_type": "stream",
          "name": "stdout",
          "text": [
            "Model Created Successfully!\n"
          ]
        }
      ]
    }
  ]
}